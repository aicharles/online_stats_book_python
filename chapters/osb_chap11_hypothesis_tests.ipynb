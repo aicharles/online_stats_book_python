{
 "cells": [
  {
   "cell_type": "markdown",
   "metadata": {},
   "source": [
    "## Chapter 11 [Onlinestatsbook.com](onlinestatsbook.com) :  \"Logic of Hypothesis Testing\"\n",
    "------  \n",
    "\n",
    "\n",
    "#### Below are selected formulas and exercises from chapter 11 of the infamous onlinestatsbook.com, a highly trusted resource for learning about statistics.  \n",
    "\n",
    "#### The formulas and exercises were chosen based on difficulty and based on if using python to understand the concept or answer the question was deemed useful.\n",
    "\n",
    "#### Please note the below does not include the questions from the case studies.  A separate notebook for each case study can be found in this repository or is forthcoming. "
   ]
  },
  {
   "cell_type": "code",
   "execution_count": 2,
   "metadata": {},
   "outputs": [],
   "source": [
    "import numpy as np\n",
    "import pandas as pd\n",
    "\n",
    "import matplotlib.pyplot as plt\n",
    "%matplotlib inline\n",
    "\n",
    "from scipy import stats"
   ]
  },
  {
   "cell_type": "markdown",
   "metadata": {},
   "source": [
    "### Section 1: \"Contents\"\n",
    "\n",
    "Hypothesis testing is complicated and there are misconceptions.  The purpose of this chapter is to clear all that up.  \n",
    "\n",
    "### Section 2: \"Intro\"\n",
    "\n",
    "The intro describes an example where James Bond guesses correctly whether a martini was shaken or stirred 13 out of 16 times.  We can use the binomial distribution to find out the liklihood he was just lucky.  "
   ]
  },
  {
   "cell_type": "code",
   "execution_count": 4,
   "metadata": {},
   "outputs": [
    {
     "data": {
      "text/plain": [
       "0.0106353759765625"
      ]
     },
     "execution_count": 4,
     "metadata": {},
     "output_type": "execute_result"
    }
   ],
   "source": [
    "from math import factorial as fact\n",
    "def binomial_prob(x,n,π):\n",
    "    return (fact(n)/(fact(x)*fact(n-x))*((π**x)*((1-π)**(n-x))))\n",
    "cum_prob = 0\n",
    "for i in range(0,13):\n",
    "    cum_prob += binomial_prob(i, 16, .5)\n",
    "1-cum_prob"
   ]
  },
  {
   "cell_type": "markdown",
   "metadata": {},
   "source": [
    "There's a low probability he was just lucky.  \n",
    "\n",
    "Next it looks at an example from the physicians reactions case study which looked at how long physicians spent with obese patients.  Physicians spent more time with avg weight patients.  It could have been because of the weight or maybe there was some other factor.  \"Random assignment of charts does not ensure that the groups will be equal in all respects other than the chart they viewed.\"  IN the next chapter we will learn we can compute the probability that it happened by chance and that the probability is low.  \n",
    "\n",
    "This is all to say that it is important to understand what this probability means.  In the Bond example:\n",
    "\n",
    "* it's the probability he would be correct on 13 or more taste tests (out of 16) if he were just guessing. i.e. probability of 0.0106 is the probability of a certain outcome (13 or more out of 16) assuming a certain state of the world (James Bond was only guessing)\n",
    "\n",
    "* It is not the probability that a state of the world is true. To drive this point home:\n",
    "\n",
    "\n",
    "\"An animal trainer claims that a trained bird can determine whether or not numbers are evenly divisible by 7. In an experiment assessing this claim, the bird is given a series of 16 test trials. On each trial, a number is displayed on a screen and the bird pecks at one of two keys to indicate its choice. The numbers are chosen in such a way that the probability of any number being evenly divisible by 7 is 0.50. The bird is correct on 9/16 choices. Using the binomial calculator, we can compute that the probability of being correct nine or more times out of 16 if one is only guessing is 0.40. Since a bird who is only guessing would do this well 40% of the time, these data do not provide convincing evidence that the bird can tell the difference between the two types of numbers. As a scientist, you would be very skeptical that the bird had this ability. Would you conclude that there is a 0.40 probability that the bird can tell the difference? Certainly not!\"\n",
    "\n",
    "\"In statistics, it is conventional to refer to possible states of the world as hypotheses since they are hypothesized states of the world. Using this terminology, the probability value is the probability of an outcome given the hypothesis. It is not the probability of the hypothesis given the outcome.\"\n",
    "\n",
    "Enter the null hypothesis:\n",
    "\n",
    "\n",
    "The hypothesis that an apparent effect is due to chance is called the null hypothesis. In the Physicians' Reactions example, the null hypothesis is that in the population of physicians, the mean time expected to be spent with obese patients is equal to the mean time expected to be spent with average-weight patients. This null hypothesis can be written as:\n",
    "μobese= μaverage\n",
    "\n",
    "the null hypothesis is typically the opposite of the researcher's hypothesis. In the Physicians' Reactions study, the researchers hypothesized that physicians would expect to spend less time with obese patients. The null hypothesis that the two types of patients are treated identically is put forward with the hope that it can be discredited and therefore rejected. If the null hypothesis were true, a difference as large or larger than the sample difference of 6.7 minutes would be very unlikely to occur. Therefore, the researchers rejected the null hypothesis of no difference and concluded that in the population, physicians intend to spend less time with obese patients.\n",
    "\n",
    "If the null hypothesis is rejected, then the alternative to the null hypothesis (called the alternative hypothesis) is accepted. The alternative hypothesis is simply the reverse of the null hypothesis. If the null hypothesis \n",
    "\n",
    "μobese = μaverage\n",
    " \n",
    "is rejected, then there are two alternatives:\n",
    "μobese < μaverage\n",
    "μobese > μaverage.\n",
    "\n",
    "\n",
    "\n",
    "\n",
    "\n"
   ]
  },
  {
   "cell_type": "markdown",
   "metadata": {},
   "source": [
    "##### Question 1 out of 3.\n",
    "Tommy claims that he blindly guessed on a 20-question true/false test, but then he got 16 of the questions correct. Using the binomial calculator, you find out that the probability of getting 16 or more correct out of 20 when π = .5 is 0.0059. This probability of 0.0059 is the probability that... \n",
    "\n",
    " a. he would get 80% correct if he took the test again. \n",
    "\n",
    " b. he would get this score or better if he were just guessing. \n",
    "\n",
    " c. he was guessing blindly on the test. \n",
    " \n",
    " Answer = B \n"
   ]
  },
  {
   "cell_type": "markdown",
   "metadata": {},
   "source": [
    "##### Question 2 out of 3.\n",
    "True or False: Random assignment ensures groups will be equal on everything except the variable manipulated.\n",
    "\n",
    " False"
   ]
  },
  {
   "cell_type": "markdown",
   "metadata": {},
   "source": [
    "##### Question 3 out of 3.\n",
    "The researchers hypothesized that there would be a correlation between how much people studied and their GPAs. The null hypothesis is that the population correlation is equal to \n",
    "\n",
    "Answer = 0"
   ]
  },
  {
   "cell_type": "markdown",
   "metadata": {},
   "source": [
    "### Section 3: \"Significance Testing\"\n",
    "\n",
    "A low probability value casts doubt on the null hypothesis. How low must the probability value be in order to conclude that the null hypothesis is false? t is conventional to conclude the null hypothesis is false if the probability value is less than 0.05.  to be more conservative, go for .01.  When a researcher concludes that the null hypothesis is false, the researcher is said to have rejected the null hypothesis.  The probability value below which the null hypothesis is rejected is called the α (alpha) level or simply α. It is also called the significance level.  When the null hypothesis is rejected, the effect is said to be statistically significant. It is very important to keep in mind that statistical significance means only that the null hypothesis of exactly no effect is rejected; it does not mean that the effect is important, which is what \"significant\" usually means. When an effect is significant, you can have confidence the effect is not exactly zero. Finding that an effect is significant does not tell you about how large or important the effect is.\n",
    "\n",
    "two approaches common approaches to conducting significance tests. \n",
    "\n",
    "* In one (favored by R. Fisher), a significance test is conducted and the probability value reflects the strength of the evidence against the null hypothesis. If the probability is below 0.01, the data provide strong evidence that the null hypothesis is false. If the probability value is below 0.05 but larger than 0.01, then the null hypothesis is typically rejected, but not with as much confidence as it would be if the probability value were below 0.01. Probability values between 0.05 and 0.10 provide weak evidence against the null hypothesis and, by convention, are not considered low enough to justify rejecting it. Higher probabilities provide less evidence that the null hypothesis is false.  this approach is more suitable for scientific research and what we focus on\n",
    "\n",
    "* The alternative approach (favored by the statisticians Neyman and Pearson) is to specify an α level before analyzing the data. If the data analysis results in a probability value below the α level, then the null hypothesis is rejected; if it is not, then the null hypothesis is not rejected. According to this perspective, if a result is significant, then it does not matter how significant it is. Moreover, if it is not significant, then it does not matter how close to being significant it is. Therefore, if the 0.05 level is being used, then probability values of 0.049 and 0.001 are treated identically. This approach is more suitable for applications in which a yes/no decision must be made for example a machine malfunction and whether it needs to be taken off the line.\n",
    "\n",
    "##### Question 1 out of 4.\n",
    "In psychology research, it is conventional to reject the null hypothesis if the probability value is lower than what number? \n",
    "\n",
    "answer = .05\n",
    "\n",
    "##### Question 2 out of 4.\n",
    "Select all that apply. The probability value below which the null hypothesis is rejected is also called the \n",
    "\n",
    " key probability. \n",
    "\n",
    " ✔︎significance level. \n",
    "\n",
    " ✔︎alpha level. \n",
    "\n",
    " focal value. \n",
    " \n",
    "##### Question 3 out of 4.\n",
    "When comparing test scores of two groups, a difference of one point would never be highly statistically significant, even if you had a really large sample. \n",
    "\n",
    "answer = false\n",
    "\n",
    "\n",
    "##### Question 4 out of 4.\n",
    "There are two main approaches to significance testing. In one approach, the probability value reflects the strength of the evidence against the null hypothesis. The smaller the p value, the more evidence you have that the null hypothesis is false. Which statistician(s) supported this approach? \n",
    "\n",
    "answer = fisher"
   ]
  },
  {
   "cell_type": "markdown",
   "metadata": {},
   "source": [
    "### Section 4: \"Type I and Type II Errors\"\n",
    "\n",
    "a Type I error occurs when, despite a low probability value for a significance test the null hypothesis is true.  This error is affected by alpha.  Lower alpha leads two lower type I errors. Note: alpha is NOT the probability of a type I error but rather the probability of a type I error **given the null hypothesis is true.**  If the null hypothesis is false, it is impossible to make a type I error.\n",
    "\n",
    "failing to reject a false null hypothesis is called a Type II error. Note: failing to reject the null hypothesis does not mean it is true.  just means the data doesn't support rejecting the null. Also, importantly, A Type II error can only occur if the null hypothesis is false. If the null hypothesis is false, then the probability of a Type II error is called β (beta). The probability of correctly rejecting a false null hypothesis equals 1- β and is called power.  \n",
    "\n",
    "##### Question 1 out of 5.\n",
    "It has been shown many times that on a certain memory test, recognition is substantially better than recall. However, the probability value for the data from your sample was .12, so you were unable to reject the null hypothesis that recall and recognition produce the same results. What type of error did you make? \n",
    "\n",
    "Answer: Type II\n",
    "\n",
    "##### Question 2 out of 5.\n",
    "In the population, there is no difference between men and women on a certain test. However, you found a difference in your sample. The probability value for the data was .03, so you rejected the null hypothesis. What type of error did you make? \n",
    "\n",
    "Answer: Type I\n",
    "\n",
    "\n",
    "##### Question 3 out of 5.\n",
    "As the alpha level gets lower, which error rate also gets lower? \n",
    "\n",
    "Answer: Type I\n",
    "\n",
    "##### Question 4 out of 5.\n",
    "Beta is the probability of which kind of error? \n",
    "\n",
    "Answer: Type II\n",
    "\n",
    "##### Question 5 out of 5.\n",
    "If the null hypothesis is false, you cannot make which kind of error? \n",
    "\n",
    "Answer: Type I\n"
   ]
  },
  {
   "cell_type": "markdown",
   "metadata": {},
   "source": [
    "### Section 5: \"One and Two-Tailed Tests\"\n",
    "\n",
    "Example to demonstrate: If we are asking whether Mr. Bond can tell the difference between shaken or stirred martinis, then we would conclude he could if he performed either much better than chance or much worse than chance.  In this case, we will use a two-tailed probability.  if our question is whether Bond is better than chance, we would use a one-tailed probability.\n",
    "\n",
    "Statistical tests that compute one-tailed probabilities are called one-tailed tests; those that compute two-tailed probabilities are called two-tailed tests. \n",
    "\n",
    "Two-tailed tests are much more common than one-tailed tests in scientific research because an outcome signifying that something other than chance is operating is usually worth noting. One-tailed tests are appropriate when it is not important to distinguish between no effect and an effect in the unexpected direction. \n",
    "\n",
    "Some have argued that a one-tailed test is justified whenever the researcher predicts the direction of an effect. The problem with this argument is that if the effect comes out strongly in the non-predicted direction, the researcher is not justified in concluding that the effect is not zero. Since this is unrealistic, one-tailed tests are usually viewed skeptically if justified on this basis alone.\n",
    "\n",
    "##### Question 1 out of 4.\n",
    "Select all that apply. Which is/are true of two-tailed tests? \n",
    "\n",
    "They are appropriate when it is not important to distinguish between no effect and an effect in either direction. \n",
    "\n",
    "✅ They are more common than one-tailed tests. \n",
    "\n",
    "✅ They compute two-tailed probabilities. \n",
    "\n",
    "They are more controversial than one-tailed tests. \n",
    "\n",
    "\n",
    "##### Question 2 out of 4.\n",
    "You are testing the difference between college freshmen and seniors on a math test. You think that the seniors will perform better, but you are still interested in knowing if the freshmen perform better. What is the null hypothesis? \n",
    "\n",
    "Answer: The mean of the seniors is equal to the mean of the freshmen \n",
    "\n",
    "##### Question 3 out of 4.\n",
    "You think a coin is biased and will come up heads more often than it will come up tails. What is the probability that out of 22 flips, it will come up heads 16 or more times? "
   ]
  },
  {
   "cell_type": "code",
   "execution_count": 21,
   "metadata": {},
   "outputs": [
    {
     "data": {
      "text/plain": [
       "0.026239395141601562"
      ]
     },
     "execution_count": 21,
     "metadata": {},
     "output_type": "execute_result"
    }
   ],
   "source": [
    "#using our code for a simple binomial probability calculator:\n",
    "cum_prob = 0\n",
    "for i in range(0,16):\n",
    "    cum_prob += binomial_prob(i, 22, .5)\n",
    "1-cum_prob"
   ]
  },
  {
   "cell_type": "code",
   "execution_count": 22,
   "metadata": {},
   "outputs": [
    {
     "data": {
      "text/plain": [
       "0.026239395141601562"
      ]
     },
     "execution_count": 22,
     "metadata": {},
     "output_type": "execute_result"
    }
   ],
   "source": [
    "# in fact, let's make this process a larger function since it appears \n",
    "# we are going to be using it a fair amount.\n",
    "def binomial_calc(successes, trials, prob):\n",
    "    cum_prob = 0\n",
    "    for i in range(0,successes):\n",
    "        cum_prob += binomial_prob(i, trials, prob)\n",
    "    return(1-cum_prob)\n",
    "binomial_calc(16,22,.5)"
   ]
  },
  {
   "cell_type": "markdown",
   "metadata": {},
   "source": [
    "##### Question 4 out of 4.\n",
    "You think a coin is biased, and you are interested in finding out if it is. What is the probability that out of 30 flips, it will come up one side 8 or fewer times? "
   ]
  },
  {
   "cell_type": "code",
   "execution_count": 40,
   "metadata": {},
   "outputs": [
    {
     "data": {
      "text/plain": [
       "0.016124801710247993"
      ]
     },
     "execution_count": 40,
     "metadata": {},
     "output_type": "execute_result"
    }
   ],
   "source": [
    "# this requires a two-tailed test since we are interested in success or failure\n",
    "# here's one rudimentary way of \"tricking\" our binomial formula to calculate:\n",
    "(1-binomial_calc(9,30,.5))*2"
   ]
  },
  {
   "cell_type": "markdown",
   "metadata": {},
   "source": [
    "### Section 6: \"Interpreting Significant Results\"\n",
    "\n",
    "When a probability value is below the α level, the effect is statistically significant and the null hypothesis is rejected. However, not all statistically significant effects should be treated the same way. For example, you should have less confidence that the null hypothesis is false if p = 0.049 than p = 0.003. \n",
    "\n",
    "Mr. Bond was given 16 trials on which he judged whether a martini had been shaken or stirred and the question is whether he is better than chance on this task. The null hypothesis for this one-tailed test is that π (probability) ≤ 0.5, where π is the probability of being correct on any given trial. If this null hypothesis is rejected, then the alternative hypothesis that π > 0.5 is accepted. If π is greater than 0.5, then Mr. Bond is better than chance on this task.\n",
    "\n",
    "Now consider the two-tailed test used in the Physicians' Reactions case study. The null hypothesis is:  \n",
    "\n",
    ">μobese = μaverage.\n",
    "\n",
    "If this null hypothesis is rejected, then there are two alternatives:  \n",
    ">μobese < μaverage\n",
    "\n",
    ">μobese > μaverage.\n",
    "\n",
    "the direction of the sample means determines which alternative is adopted. If the sample mean for the obese patients is significantly lower than the sample mean for the average-weight patients, then one should conclude that the population mean for the obese patients is lower than the population mean for the average-weight patients.\n",
    "\n",
    "There are many situations in which it is very unlikely two conditions will have exactly the same population means. For example, it is practically impossible that aspirin and acetaminophen provide exactly the same degree of pain relief. Therefore, even before an experiment comparing their effectiveness is conducted, the researcher knows that the null hypothesis of exactly no difference is false. However, the researcher does not know which drug offers more relief. If a test of the difference is significant, then the direction of the difference is established. \n",
    "\n",
    "\n",
    "Some textbooks have incorrectly stated that rejecting the null hypothesis that two population means are equal does not justify a conclusion about which population mean is larger. Instead, they say that all one can conclude is that the population means differ. The validity of concluding the direction of the effect is clear if you note that a two-tailed test at the 0.05 level is equivalent to two separate one-tailed tests each at the 0.025 level. The two null hypotheses are then\n",
    ">μobese ≥ μaverage\n",
    "\n",
    ">μobese ≤ μaverage.\n",
    "\n",
    "If the former of these is rejected, then the conclusion is that the population mean for obese patients is lower than that for average-weight patients. If the latter is rejected, then the conclusion is that the population mean for obese patients is higher than that for average-weight patients.\n",
    "\n",
    "\n",
    "##### Question 2 out of 3.\n",
    "You are testing the difference between high school freshmen and seniors on SAT performance. The null hypothesis is that the population mean SAT score of the seniors is equal to the population mean SAT score of the freshmen. You randomly sample 20 students in each grade and have them take the SAT. You find that the sample mean of the seniors is significantly higher than the sample mean of the freshmen. Which alternative hypothesis is accepted? \n",
    "\n",
    "Answer: The population mean SAT score of the seniors is greater than the population mean SAT score of the freshmen.\n",
    "\n",
    "##### Question 3 out of 3.\n",
    "If you are already certain that a null hypothesis is false, then: \n",
    "\n",
    "Answer: When a difference is significant you can draw a confident conclusion about the direction of the effect. \n",
    "\n",
    "\n",
    "#### Note: section 8 was skipped\n",
    "\n",
    "\n",
    "\n"
   ]
  },
  {
   "cell_type": "markdown",
   "metadata": {},
   "source": [
    "### Section 9: \"Significance Testing and Confidence Intervals\"\n",
    "\n",
    "if a statistic is significantly different from 0 at the 0.05 level, then the 95% confidence interval will not contain 0.\n",
    "\n",
    "Whenever an effect is significant, all values in the confidence interval will be on the same side of zero (either all positive or all negative). Therefore, a significant finding allows the researcher to specify the direction of the effect. \n",
    "\n",
    "##### Question 1 out of 4.\n",
    "The null hypothesis for a particular experiment is that the mean test score is 20. If the 99% confidence interval is (18, 24), can you reject the null hypothesis at the .01 level? \n",
    "\n",
    "Answer: No\n",
    "\n",
    "##### Question 3 out of 4.\n",
    "If a 95% confidence interval contains 0, so will the 99% confidence interval. \n",
    "\n",
    "Answer: True\n",
    "\n",
    "### Section 10: \"Misconceptions\"\n",
    "\n",
    "1. Misconception: The probability value is the probability that the null hypothesis is false. \n",
    "\n",
    "  * Proper interpretation: The probability value is the probability of a result as extreme or more extreme given that the null hypothesis is true. It is the probability of the data given the null hypothesis. It is not the probability that the null hypothesis is false.  \n",
    "  \n",
    "\n",
    "2. Misconception: A low probability value indicates a large effect.  \n",
    "\n",
    "  * Proper interpretation: A low probability value indicates that the sample outcome (or one more extreme) would be very unlikely if the null hypothesis were true. A low probability value can occur with small effect sizes, particularly if the sample size is large.  \n",
    "  \n",
    "\n",
    "3. Misconception: A non-significant outcome means that the null hypothesis is probably true.  \n",
    "\n",
    "  * Proper interpretation: A non-significant outcome means that the data do not conclusively demonstrate that the null hypothesis is false.  \n"
   ]
  },
  {
   "cell_type": "markdown",
   "metadata": {},
   "source": [
    "### Section 11: \"Misconceptions\"\n",
    "\n",
    "#### (every 5th question)\n",
    "\n",
    "##### Q1 An experiment is conducted to test the claim that James Bond can taste the difference between a Martini that is shaken and one that is stirred. What is the null hypothesis?\n",
    "\n",
    "That James Bond's ability to tell the difference is no better than chance.\n",
    "\n",
    "##### Q6 A researcher develops a new theory that predicts that vegetarians will have more of a particular vitamin in their blood than non-vegetarians. An experiment is conducted and vegetarians do have more of the vitamin, but the difference is not significant. The probability value is 0.13. Should the experimenter's confidence in the theory increase, decrease, or stay the same?\n",
    "\n",
    "Decrease.  He cannot reject the null hypothesis.\n",
    "\n",
    "##### Q11 Distinguish between probability value and significance level.\n",
    "\n",
    "A probability value is simply a probability value and can be used in many difference ways.  A significance level is the threshold probability value below which the null hypothesis will be rejected.  \n",
    "\n",
    "##### Q16 How do the Type I and Type II error rates of one-tailed and two-tailed tests differ?\n",
    "\n",
    "\n",
    "\n",
    "##### Q21 True/false: You accept the alternative hypothesis when you reject the null hypothesis. \n",
    "\n",
    "Answer: True\n",
    "\n",
    "\n",
    "\n"
   ]
  },
  {
   "cell_type": "code",
   "execution_count": null,
   "metadata": {},
   "outputs": [],
   "source": []
  }
 ],
 "metadata": {
  "kernelspec": {
   "display_name": "Python 3",
   "language": "python",
   "name": "python3"
  },
  "language_info": {
   "codemirror_mode": {
    "name": "ipython",
    "version": 3
   },
   "file_extension": ".py",
   "mimetype": "text/x-python",
   "name": "python",
   "nbconvert_exporter": "python",
   "pygments_lexer": "ipython3",
   "version": "3.6.4"
  }
 },
 "nbformat": 4,
 "nbformat_minor": 2
}
