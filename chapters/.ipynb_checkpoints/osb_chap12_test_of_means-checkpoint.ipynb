{
 "cells": [
  {
   "cell_type": "markdown",
   "metadata": {},
   "source": [
    "## Chapter 12 [Onlinestatsbook.com](onlinestatsbook.com) :  \"Test of Means\"\n",
    "------  \n",
    "\n",
    "\n",
    "#### Below are selected formulas and exercises from chapter 11 of the infamous onlinestatsbook.com, a highly trusted resource for learning about statistics.  \n",
    "\n",
    "#### The formulas and exercises were chosen based on difficulty and based on if using python to understand the concept or answer the question was deemed useful.\n",
    "\n",
    "#### Please note the below does not include the questions from the case studies.  A separate notebook for each case study can be found in this repository or is forthcoming. "
   ]
  },
  {
   "cell_type": "code",
   "execution_count": 2,
   "metadata": {},
   "outputs": [],
   "source": [
    "import numpy as np\n",
    "import pandas as pd\n",
    "\n",
    "import matplotlib.pyplot as plt\n",
    "%matplotlib inline\n",
    "\n",
    "from scipy import stats"
   ]
  },
  {
   "cell_type": "markdown",
   "metadata": {},
   "source": [
    "### Section 1: \"Contents\"\n",
    "\n",
    "Many, if not most experiments are designed to compare means. The experiment may involve only one sample mean that is to be compared to a specific value. Or the experiment could be testing differences among many different experimental conditions, and the experimenter could be interested in comparing each mean with each of the other means. This chapter covers methods of comparing means in many different experimental situations.\n",
    "\n",
    "### Section 2: \"Testing a Single Mean\"\n",
    "\n",
    "we wish to know the probability of obtaining a sample mean of 51 **or more** when the sampling distribution of the mean has a mean of 50 and a standard deviation (standard error) of 1.667. Note this was calculated for us.  To compute this probability, we will make the assumption that the sampling distribution of the mean is normally distributed. Using the online statsbook normal calculator we can find out the probability is .274293. Here's the image:\n",
    "\n",
    "![alt text][img1]\n",
    "\n",
    "[img1]:http://onlinestatbook.com/2/tests_of_means/graphics/sig_mean1.gif\n",
    "\n",
    "We can also obtain this value with python."
   ]
  },
  {
   "cell_type": "code",
   "execution_count": 5,
   "metadata": {},
   "outputs": [
    {
     "data": {
      "text/plain": [
       "0.2742930981455225"
      ]
     },
     "execution_count": 5,
     "metadata": {},
     "output_type": "execute_result"
    }
   ],
   "source": [
    "1-stats.norm(50, 1.667).cdf(51)"
   ]
  },
  {
   "cell_type": "markdown",
   "metadata": {},
   "source": [
    "The test conducted above was a one-tailed test because it computed the probability of a sample mean being one or more points higher than the hypothesized mean of 50 and the area computed was the area above 51.\n",
    "\n",
    "To test the two-tailed hypothesis, you would compute the probability of a sample mean differing by one or more in either direction from the hypothesized mean of 50. You would do so by computing the probability of a mean being less than or equal to 49 or greater than or equal to 51.  Here's what that looks like with the onlinestatsbook normal calc:\n",
    "\n",
    "![alt text][img1]\n",
    "\n",
    "[img1]:http://onlinestatbook.com/2/tests_of_means/graphics/sig_mean2.gif\n",
    "\n",
    "Here's how to calculate that in python:\n"
   ]
  },
  {
   "cell_type": "code",
   "execution_count": 6,
   "metadata": {},
   "outputs": [
    {
     "data": {
      "text/plain": [
       "0.54858619629104499"
      ]
     },
     "execution_count": 6,
     "metadata": {},
     "output_type": "execute_result"
    }
   ],
   "source": [
    "(1-stats.norm(50, 1.667).cdf(51))+stats.norm(50, 1.667).cdf(49)"
   ]
  },
  {
   "cell_type": "markdown",
   "metadata": {},
   "source": [
    "Can also leverage the survivial function which is 1-cdf to somewhat simplify:"
   ]
  },
  {
   "cell_type": "code",
   "execution_count": 16,
   "metadata": {},
   "outputs": [
    {
     "data": {
      "text/plain": [
       "0.5485861962910451"
      ]
     },
     "execution_count": 16,
     "metadata": {},
     "output_type": "execute_result"
    }
   ],
   "source": [
    "stats.norm(50, 1.667).sf(51)+ stats.norm(50, 1.667).cdf(49)"
   ]
  },
  {
   "cell_type": "markdown",
   "metadata": {},
   "source": [
    "Typically σ is not known and is estimated in a sample by s, and σM is estimated by sM. Using an example from the ADHD study, we test the null hypothesis is that the mean difference score in the population is 0 meaning the drug makes no difference.\n",
    "\n",
    "1.  calculate the t statistic using a special case of this formula:\n",
    "\n",
    "  ![alt text][img1]\n",
    "\n",
    "[img1]:http://onlinestatbook.com/2/tests_of_means/graphics/t_general.gif\n",
    "\n",
    "  ![alt text][img2]\n",
    "\n",
    "[img2]:http://onlinestatbook.com/2/tests_of_means/graphics/t_mean.gif\n",
    "\n",
    "where t is the value we compute for the significance test, M is the sample mean, μ is the hypothesized value of the population mean, and sM is the estimated standard error of the mean. \n",
    "\n",
    "2.  The mean (M) of the N = 24 difference scores is 4.958, the hypothesized value of μ is 0, and the standard deviation (s) is 7.538. obtain sM and calculate\n",
    "\n",
    "![alt text][img3]\n",
    "\n",
    "[img3]: http://onlinestatbook.com/2/tests_of_means/graphics/se1.gif\n",
    "\n",
    "Therefore, t = 4.96/1.54 = 3.22.\n",
    "\n",
    "3. Use t to calculate the shaded area.\n",
    "\n",
    "![alt text][img4]\n",
    "\n",
    "[img4]: http://onlinestatbook.com/2/tests_of_means/graphics/t_calc.gif\n",
    "\n",
    "\n",
    "This is rather easy to do with python:"
   ]
  },
  {
   "cell_type": "code",
   "execution_count": 42,
   "metadata": {},
   "outputs": [
    {
     "data": {
      "text/plain": [
       "0.003792872940570291"
      ]
     },
     "execution_count": 42,
     "metadata": {},
     "output_type": "execute_result"
    }
   ],
   "source": [
    "(1-stats.t.cdf(3.22, df = 23))*2"
   ]
  },
  {
   "cell_type": "markdown",
   "metadata": {},
   "source": [
    "##### Question 1 out of 9.\n",
    "You should do the test with Z rather than t when:\n",
    "\n",
    "answer: The numbers are sampled from a normal distribution.\n",
    "\n",
    "##### Question 2 out of 9.\n",
    "Assume you know the standard deviation of test scores is 10 and that the distribution is normal. You sample 16 scores and find that the sample mean is 25. Find the p value for a two-tailed test of the hypothesis that the population mean is 20. \n"
   ]
  },
  {
   "cell_type": "code",
   "execution_count": 64,
   "metadata": {},
   "outputs": [
    {
     "data": {
      "text/plain": [
       "0.045500263896358389"
      ]
     },
     "execution_count": 64,
     "metadata": {},
     "output_type": "execute_result"
    }
   ],
   "source": [
    "#need to calculate the standard error of the mean\n",
    "std_err = 10/16**.5\n",
    "stats.norm(25, std_err).cdf(20)*2"
   ]
  },
  {
   "cell_type": "markdown",
   "metadata": {},
   "source": [
    "##### Question 3 out of 9.\n",
    "What is the standard deviation of these sample data?\n",
    "\n",
    "\n",
    "\n",
    "Y\n",
    " -2\n",
    "  1\n",
    "  3\n",
    "  2\n",
    " -1\n",
    "  0\n",
    "  4\n",
    "  6\n"
   ]
  },
  {
   "cell_type": "code",
   "execution_count": 82,
   "metadata": {},
   "outputs": [
    {
     "data": {
      "text/plain": [
       "2.6692695630078278"
      ]
     },
     "execution_count": 82,
     "metadata": {},
     "output_type": "execute_result"
    }
   ],
   "source": [
    "x = np.asarray(list(map(int,\"-2 1 3 2 -1 0 4 6\".split())))\n",
    "x.std(ddof=1)"
   ]
  },
  {
   "cell_type": "markdown",
   "metadata": {},
   "source": [
    "##### Question 4 out of 9.\n",
    "What is the estimated standard error of the mean based on these sample data? (These are the same data as the previous question.)"
   ]
  },
  {
   "cell_type": "code",
   "execution_count": 83,
   "metadata": {},
   "outputs": [
    {
     "data": {
      "text/plain": [
       "0.94372930440884362"
      ]
     },
     "execution_count": 83,
     "metadata": {},
     "output_type": "execute_result"
    }
   ],
   "source": [
    "stats.sem(x)"
   ]
  },
  {
   "cell_type": "markdown",
   "metadata": {},
   "source": [
    "##### Question 5 out of 9.\n",
    "What is the value of t testing the null hypothesis that the population mean is 0? (These are the same data as the previous question.)"
   ]
  },
  {
   "cell_type": "code",
   "execution_count": 88,
   "metadata": {},
   "outputs": [
    {
     "data": {
      "text/plain": [
       "1.7218920641845572"
      ]
     },
     "execution_count": 88,
     "metadata": {},
     "output_type": "execute_result"
    }
   ],
   "source": [
    "t = x.mean()/stats.sem(x)\n",
    "t"
   ]
  },
  {
   "cell_type": "markdown",
   "metadata": {},
   "source": [
    "##### Question 6 out of 9.\n",
    "What is the two-tailed probability value testing the null hypothesis that the population mean is 0? (These are the same data as the previous question.)"
   ]
  },
  {
   "cell_type": "code",
   "execution_count": 89,
   "metadata": {},
   "outputs": [
    {
     "data": {
      "text/plain": [
       "0.1287617132182699"
      ]
     },
     "execution_count": 89,
     "metadata": {},
     "output_type": "execute_result"
    }
   ],
   "source": [
    "(1-stats.t.cdf(t, df = 7))*2"
   ]
  },
  {
   "cell_type": "markdown",
   "metadata": {},
   "source": [
    "#### Question 7 out of 9.\n",
    "Using these data below, what is the t statistic for a single-sample t test (null hypothesis is that μ = 0)\n",
    "\n",
    "Y\n",
    "  2.29\n",
    "  2.20\n",
    "  2.28\n",
    "  0.65\n",
    " -0.18\n",
    " -1.18\n",
    "  1.22\n",
    " -0.07"
   ]
  },
  {
   "cell_type": "code",
   "execution_count": 91,
   "metadata": {},
   "outputs": [
    {
     "data": {
      "text/plain": [
       "1.9368538470747008"
      ]
     },
     "execution_count": 91,
     "metadata": {},
     "output_type": "execute_result"
    }
   ],
   "source": [
    "x = np.asarray(list(map(float,\"2.29 2.20 2.28 0.65 -0.18 -1.18 1.22 -0.07\".split())))\n",
    "x.mean()/stats.sem(x)"
   ]
  },
  {
   "cell_type": "markdown",
   "metadata": {},
   "source": [
    "##### Question 8 out of 9.\n",
    "Using these data below, what is the t statistic for a single-sample t test (null hypothesis is that μ = .5)?"
   ]
  },
  {
   "cell_type": "code",
   "execution_count": 95,
   "metadata": {},
   "outputs": [
    {
     "data": {
      "text/plain": [
       "0.8623163452302065"
      ]
     },
     "execution_count": 95,
     "metadata": {},
     "output_type": "execute_result"
    }
   ],
   "source": [
    "(x.mean()-.5)/stats.sem(x)"
   ]
  },
  {
   "cell_type": "markdown",
   "metadata": {},
   "source": [
    "##### Question 9 out of 9.\n",
    "Using these data below, what is the two-tailed p value for a single-sample t test (null hypothesis is that μ = .5)?\n",
    "\n",
    "Y\n",
    "  0.05\n",
    "  1.80\n",
    "  0.23\n",
    "  1.33\n",
    "  0.17\n",
    "  0.48\n",
    "  0.47\n",
    "  0.72"
   ]
  },
  {
   "cell_type": "code",
   "execution_count": 97,
   "metadata": {},
   "outputs": [
    {
     "data": {
      "text/plain": [
       "0.4932915965578788"
      ]
     },
     "execution_count": 97,
     "metadata": {},
     "output_type": "execute_result"
    }
   ],
   "source": [
    "x = np.asarray(list(map(float,\"0.05 1.80 0.23 1.33 0.17 0.48 0.47 0.72\".split())))\n",
    "t = (x.mean()-.5)/stats.sem(x)\n",
    "(1-stats.t.cdf(t, df = len(x)-1))*2"
   ]
  },
  {
   "cell_type": "markdown",
   "metadata": {},
   "source": [
    "### Section 4: \"Difference between Two Means (Independent Groups)\"\n",
    "\n",
    "It is much more common for a researcher to be interested in the difference between means than in the specific values of the means themselves.  Here's a table of stats for two groups\n",
    "\n",
    "<div class=\"tableHolder300\">\n",
    "               <table>\n",
    "                <tbody><tr>\n",
    "                \t<th>\n",
    "                    \tGroup\n",
    "                    </th>\n",
    "                \t<th>\n",
    "                    \tn\n",
    "                    </th>\n",
    "                \t<th>\n",
    "                    \tMean\n",
    "                    </th>\n",
    "                \t<th>\n",
    "                    \tVariance\n",
    "                    </th>\n",
    "                </tr>\n",
    "                <tr>\n",
    "                \t<td>\n",
    "                    \tFemales\n",
    "                    </td>\n",
    "                \t<td>\n",
    "                    \t17\n",
    "                    </td>\n",
    "                \t<td>\n",
    "                    \t5.353\n",
    "                    </td>\n",
    "                \t<td>\n",
    "                    \t2.743\n",
    "                    </td>\n",
    "                </tr>\n",
    "                <tr>\n",
    "                \t<td>\n",
    "                    \tMales\n",
    "                    </td>\n",
    "                \t<td>\n",
    "                    \t17\n",
    "                    </td>\n",
    "                \t<td>\n",
    "                    \t3.882\n",
    "                    </td>\n",
    "                \t<td>\n",
    "                    \t2.985\n",
    "                    </td>\n",
    "                </tr>\n",
    "              </tbody></table>\n",
    "              </div>\n",
    "\n",
    "In order to test whether there is a difference between population means, we are going to make three assumptions:\n",
    "1.  The two populations have the same variance. This assumption is called the assumption of homogeneity of variance.\n",
    "2.  The populations are normally distributed.\n",
    "3.  Each value is sampled independently from each other value. This assumption requires that each subject provide only one value. If a subject provides two scores, then the scores are not independent. The analysis of data with two scores per subject is discussed later (correlated t test)\n",
    "\n",
    "**Note**: small-to-moderate violations of assumptions 1 and 2 do not make much difference. It is important not to violate assumption 3.\n",
    "\n",
    "\n",
    "As seen in the previous section:\n",
    "\n",
    "  ![alt text][img1]\n",
    "\n",
    "[img1]:http://onlinestatbook.com/2/tests_of_means/graphics/t_general.gif\n",
    "\n",
    "\n",
    "In this case, our statistic is the difference between sample means and our hypothesized value is 0. The hypothesized value is the null hypothesis that the difference between population means is 0.\n",
    "\n"
   ]
  },
  {
   "cell_type": "code",
   "execution_count": 98,
   "metadata": {},
   "outputs": [],
   "source": [
    "diff = 5.353-3.882"
   ]
  },
  {
   "cell_type": "markdown",
   "metadata": {},
   "source": [
    "The next step is to compute the estimate of the standard error of the statistic. In this case, the statistic is the difference between means, so the estimated standard error of the statistic is (). Recall the formula for the standard error of the difference between means is:\n",
    "\n",
    "  ![alt text][img1]\n",
    "\n",
    "[img1]:http://onlinestatbook.com/2/sampling_distributions/graphics/equal_var.gif\n",
    "\n",
    "we estimate σ2 and use that estimate in place of σ2. Since we are assuming the two population variances are the same, we estimate this variance by averaging our two sample variances. Thus, our estimate of variance is\n",
    "\n",
    "  ![alt text][img2]\n",
    "\n",
    "[img2]:http://onlinestatbook.com/2/estimation/graphics/MSE.gif\n",
    "\n"
   ]
  },
  {
   "cell_type": "code",
   "execution_count": 106,
   "metadata": {},
   "outputs": [
    {
     "data": {
      "text/plain": [
       "2.864"
      ]
     },
     "execution_count": 106,
     "metadata": {},
     "output_type": "execute_result"
    }
   ],
   "source": [
    "mse = (2.743 + 2.985)/2\n",
    "mse"
   ]
  },
  {
   "cell_type": "markdown",
   "metadata": {},
   "source": [
    "therefore the standard error would be:"
   ]
  },
  {
   "cell_type": "code",
   "execution_count": 108,
   "metadata": {},
   "outputs": [
    {
     "data": {
      "text/plain": [
       "0.5804663439602578"
      ]
     },
     "execution_count": 108,
     "metadata": {},
     "output_type": "execute_result"
    }
   ],
   "source": [
    "std_err = ((2*mse)/17)**.5 #17 is the numer in each group\n",
    "std_err"
   ]
  },
  {
   "cell_type": "markdown",
   "metadata": {},
   "source": [
    "and t is:"
   ]
  },
  {
   "cell_type": "code",
   "execution_count": 109,
   "metadata": {},
   "outputs": [
    {
     "data": {
      "text/plain": [
       "2.534169319730126"
      ]
     },
     "execution_count": 109,
     "metadata": {},
     "output_type": "execute_result"
    }
   ],
   "source": [
    "t = diff/std_err\n",
    "t"
   ]
  },
  {
   "cell_type": "markdown",
   "metadata": {},
   "source": [
    "Lastly, we compute the probability of getting a t as large or larger than 2.533 or as small or smaller than -2.533. To do this, we need to know the degrees of freedom. The degrees of freedom is the number of independent estimates of variance on which MSE is based. This is equal to (n1 - 1) + (n2 - 1)"
   ]
  },
  {
   "cell_type": "code",
   "execution_count": 110,
   "metadata": {},
   "outputs": [],
   "source": [
    "df = 17*2-1"
   ]
  },
  {
   "cell_type": "markdown",
   "metadata": {},
   "source": [
    "We can see below from onlinstatbook t distribution calculator that the probability value for a two-tailed test with t = t and df = df is 0.0164\n",
    "\n",
    "  ![alt text][img1]\n",
    "\n",
    "[img1]:http://onlinestatbook.com/2/tests_of_means/graphics/t_prob_2-tail.gif\n",
    "\n",
    "We can also compute this fairly easily in python:"
   ]
  },
  {
   "cell_type": "code",
   "execution_count": 114,
   "metadata": {},
   "outputs": [
    {
     "data": {
      "text/plain": [
       "0.016199890812905293"
      ]
     },
     "execution_count": 114,
     "metadata": {},
     "output_type": "execute_result"
    }
   ],
   "source": [
    "(1-stats.t.cdf(t,df))*2"
   ]
  },
  {
   "cell_type": "markdown",
   "metadata": {},
   "source": [
    "##### Computations for Unequal Sample Sizes (optional)\n",
    "\n",
    "Problem with above is that MSE, the estimate of variance, counts the group with the larger sample size more than the group with the smaller sample size. \n",
    "\n",
    "for group_a = [3,4,5] and group_b = [2,4]:\n",
    "\n",
    "  * M1 = 4 and M2 = 3\n",
    "\n",
    "  * SSE = (3-4)2 + (4-4)2 + (5-4)2 + (2-3)2 + (4-3)2 = 4\n",
    "\n",
    "Then, MSE is computed by: \n",
    "\n",
    "   * MSE = SSE/df\n",
    "\n",
    "where the degrees of freedom (df) is computed as before: \n",
    "\n",
    "  * df = (n1 - 1) + (n2 - 1) = (3 - 1) + (2 - 1) = 3. \n",
    "  * MSE = SSE/df = 4/3 = 1.333.\n",
    "  \n",
    "the formula for the standard error is replaced by:\n",
    "\n",
    "  ![alt text][img1]\n",
    "\n",
    "[img1]:http://onlinestatbook.com/2/estimation/graphics/sed_uneq.gif\n",
    "\n",
    "where nh is the harmonic mean and is calculated as follows:\n",
    "\n",
    "  ![alt text][img2]\n",
    "\n",
    "[img2]:http://onlinestatbook.com/2/estimation/graphics/nh.gif   \n",
    "\n",
    "\n",
    "Therefore nh = 1.054 and:\n",
    "\n",
    "\n",
    "  * t = (4-3)/1.054 = 0.949\n",
    "\n",
    "  * and the two-tailed p = 0.413.\n",
    "  \n",
    "  \n",
    "##### Question 8 out of 9.\n",
    "If there are 4 scores per group and the t value is 2.34, what is the p value for a two-tailed test (to 3 decimal places)? \n",
    "\n"
   ]
  },
  {
   "cell_type": "code",
   "execution_count": 116,
   "metadata": {},
   "outputs": [
    {
     "data": {
      "text/plain": [
       "0.057843940267015004"
      ]
     },
     "execution_count": 116,
     "metadata": {},
     "output_type": "execute_result"
    }
   ],
   "source": [
    "(1-stats.t.cdf(2.34,6))*2"
   ]
  },
  {
   "cell_type": "markdown",
   "metadata": {},
   "source": [
    "##### Question 9 out of 9.\n",
    "What is the t for an independent-groups t test for these data? \n",
    "\n",
    "\n",
    "\n",
    "  G 1\t  G 2\n",
    " 54\t 44\n",
    " 39\t 47\n",
    " 40\t 45\n",
    " 45\t 30\n",
    " 56\t 38\n",
    " 51\t 17\n",
    " 67\t 37\n",
    " 48\t 53\n",
    " \n",
    " note:  this data is displaying funky.  every other number is in a separate group.  "
   ]
  },
  {
   "cell_type": "code",
   "execution_count": 138,
   "metadata": {},
   "outputs": [
    {
     "data": {
      "text/plain": [
       "[54, 44, 39, 47, 40, 45, 45, 30, 56, 38, 51, 17, 67, 37, 48, 53]"
      ]
     },
     "execution_count": 138,
     "metadata": {},
     "output_type": "execute_result"
    }
   ],
   "source": [
    "x = list(map(int,\"54 44 39 47 40 45 45 30 56 38 51 17 67 37 48 53\".split()))\n",
    "x"
   ]
  },
  {
   "cell_type": "code",
   "execution_count": 139,
   "metadata": {},
   "outputs": [
    {
     "name": "stdout",
     "output_type": "stream",
     "text": [
      "[54, 39, 40, 45, 56, 51, 67, 48]\n",
      "[44, 47, 45, 30, 38, 17, 37, 53]\n"
     ]
    }
   ],
   "source": [
    "g_a = []\n",
    "g_b = []\n",
    "for i in range(0,len(x)):\n",
    "    if i%2==0:\n",
    "        g_a.append(x[i])\n",
    "    else:\n",
    "        g_b.append(x[i])\n",
    "print(g_a)\n",
    "print(g_b)"
   ]
  },
  {
   "cell_type": "code",
   "execution_count": 153,
   "metadata": {},
   "outputs": [
    {
     "data": {
      "text/plain": [
       "2.1619306640686724"
      ]
     },
     "execution_count": 153,
     "metadata": {},
     "output_type": "execute_result"
    }
   ],
   "source": [
    "diff = np.mean(g_a)-np.mean(g_b)\n",
    "mse = (np.var(g_a, ddof=1) + np.var(g_b, ddof=1))/2\n",
    "std_err = ((2*mse)/len(g_a))**.5\n",
    "t = diff/std_err\n",
    "t"
   ]
  },
  {
   "cell_type": "markdown",
   "metadata": {},
   "source": [
    "### Section 6: \"All Pairwise Comparisons Among Means\"\n",
    "\n",
    "Many experiments are designed to compare more than two conditions. An obvious way to proceed would be to do a t test of the difference between each group mean and each of the other group means. The problem with this approach is that if you did this analysis, you would have six chances to make a Type I error. The more means that are compared, the more the Type I error rate is inflated. Figure 1 shows the number of possible comparisons between pairs of means (pairwise comparisons) as a function of the number of means. \n",
    "\n",
    "  ![alt text][img1]\n",
    "\n",
    "[img1]:http://onlinestatbook.com/2/tests_of_means/graphics/number_of_comparisons.gif\n",
    "\n",
    "The figure below shows the probability of a Type I error as a function of the number of means. \n",
    "\n",
    "  ![alt text][img2]\n",
    "\n",
    "[img2]:http://onlinestatbook.com/2/tests_of_means/graphics/familywise.gif\n",
    "\n",
    "\n",
    "The probability of a type I error rate is high even for a small number of means.  The Type I error rate can be controlled using a test called the **Tukey Honestly Significant Difference test or Tukey HSD** for short. The Tukey HSD is based on a variation of the t distribution that takes into account the number of means being compared. This distribution is called the **studentized range distribution.**\n",
    "\n",
    "Note:  The assumptions of the Tukey test are essentially the same as for an independent-groups t test: normality, homogeneity of variance, and independent observations. The test is quite robust to violations of normality. Violating homogeneity of variance can be more problematical than in the two-sample case since the MSE is based on data from all groups. The assumption of independence of observations is important and should not be violated.\n",
    "\n",
    "Using the leniency study we will do an example using the data below:\n",
    "\n",
    "<table>\n",
    "  <tbody><tr>\n",
    "   <th>\n",
    "                        \tCondition\n",
    "                        </th>\n",
    "                        <th> \n",
    "                        \tMean\n",
    "                        </th>\n",
    "                        <th> \n",
    "                        \tVariance\n",
    "                        </th>\n",
    "                      </tr>\n",
    "                      <tr> \n",
    "                        <td> \n",
    "                        \tFalse\n",
    "                        </td>\n",
    "                        <td> \n",
    "                        \t5.37\n",
    "                        </td>\n",
    "                        <td> \n",
    "                        \t3.34\n",
    "                        </td>\n",
    "                      </tr>\n",
    "                      <tr> \n",
    "                        <td> \n",
    "                        \tFelt\n",
    "                        </td>\n",
    "                        <td> \n",
    "                        \t4.91\n",
    "                        </td>\n",
    "                        <td> \n",
    "                        \t2.83\n",
    "                        </td>\n",
    "                      </tr>\n",
    "                      <tr> \n",
    "                        <td> \n",
    "                       \t\tMiserable\n",
    "                        </td>\n",
    "                        <td> \n",
    "                        \t4.91\n",
    "                        </td>\n",
    "                        <td> \n",
    "                        \t2.11\n",
    "                        </td>\n",
    "                      </tr>\n",
    "                      <tr> \n",
    "                        <td> \n",
    "                        \tNeutral\n",
    "                        </td>\n",
    "                        <td> \n",
    "                        \t4.12\n",
    "                        </td>\n",
    "                        <td> \n",
    "                        \t2.32\n",
    "                        </td>\n",
    "                      </tr>\n",
    "              </tbody></table>\n",
    "\n",
    "1.  Compute MSE, which is simply the mean of the variances. It is equal to 2.65.\n",
    "\n",
    "2.  Compute Q:\n",
    "\n",
    "  ![alt text][img3]\n",
    "\n",
    "[img3]:http://onlinestatbook.com/2/tests_of_means/graphics/ts_form.gif\n",
    "\n",
    "   for each pair of means, where Mi is one mean, Mj is the other mean, and n is the number of scores in each group. For these data, there are 34 observations per group. The value in the denominator is 0.279.\n",
    "   \n",
    "   \n",
    "3.  Compute p for each comparison using the Studentized Range Calculator. The degrees of freedom is equal to the total number of observations minus the number of means. For this experiment, df = 136 - 4 = 132.\n",
    "\n",
    "<table>\n",
    "               \t\t <tbody><tr>\n",
    "                        <th>\n",
    "                        \tComparison\n",
    "                        </th>\n",
    "                        <th> \n",
    "                        \tM<sub>i</sub>-M<sub>j</sub>\n",
    "                        </th>\n",
    "                        <th> \n",
    "                        \tQ\n",
    "                        </th>\n",
    "                        <th> \n",
    "                        \tp\n",
    "                        </th>\n",
    "                      </tr>\n",
    "                      <tr> \n",
    "                        <td> \n",
    "                        \tFalse - Felt\n",
    "                        </td>\n",
    "                        <td> \n",
    "                        \t0.46\n",
    "                        </td>\n",
    "                        <td> \n",
    "                        \t1.65\n",
    "                        </td>\n",
    "                        <td> \n",
    "                        \t0.649\n",
    "                        </td>\n",
    "                      </tr>\n",
    "                      <tr> \n",
    "                        <td> \n",
    "                        \tFalse - Miserable\n",
    "                        </td>\n",
    "                        <td> \n",
    "                        \t0.46\n",
    "                        </td>\n",
    "                        <td> \n",
    "                        \t1.65\n",
    "                        </td>\n",
    "                        <td> \n",
    "                        \t0.649\n",
    "                        </td>\n",
    "                      </tr>\n",
    "                      <tr> \n",
    "                        <td> \n",
    "                       \t\t False - Neutral\n",
    "                        </td>\n",
    "                        <td> \n",
    "                        \t1.25\n",
    "                        </td>\n",
    "                        <td> \n",
    "                        \t4.48\n",
    "                        </td>\n",
    "                        <td> \n",
    "                        \t0.010\n",
    "                        </td>\n",
    "                      </tr>\n",
    "                      <tr> \n",
    "                        <td> \n",
    "                        \tFelt - Miserable\n",
    "                        </td>\n",
    "                        <td> \n",
    "                        \t0.00\n",
    "                        </td>\n",
    "                        <td> \n",
    "                        \t0.00\n",
    "                        </td>\n",
    "                        <td> \n",
    "                        \t1.000\n",
    "                        </td>\n",
    "                      </tr>\n",
    "                      <tr> \n",
    "                        <td> \n",
    "                        \tFelt - Neutral\n",
    "                        </td>\n",
    "                        <td> \n",
    "                        \t0.79\n",
    "                        </td>\n",
    "                        <td> \n",
    "                        \t2.83\n",
    "                        </td>\n",
    "                        <td> \n",
    "                        \t0.193\n",
    "                        </td>\n",
    "                      </tr>\n",
    "                      <tr> \n",
    "                        <td> \n",
    "                        \tMiserable - Neutral\n",
    "                        </td>\n",
    "                        <td> \n",
    "                        \t0.79\n",
    "                        </td>\n",
    "                        <td> \n",
    "                        \t2.83\n",
    "                        </td>\n",
    "                        <td> \n",
    "                        \t0.193\n",
    "                        </td>\n",
    "                      </tr>\n",
    "              </tbody></table>\n",
    "      \n",
    "The only significant comparison is between the false smile and the neutral smile.\n",
    " "
   ]
  },
  {
   "cell_type": "markdown",
   "metadata": {},
   "source": [
    "Tukey for Unequal Sample Sizes (optional)\n",
    "The calculation of MSE for unequal sample sizes is similar to its calculation in an independent-groups t test. Here are the steps:\n",
    "\n",
    "1. Compute a Sum of Squares Error (SSE) using the following formula  \n",
    "\n",
    "   ![alt text][img1]\n",
    "   [img1]:http://onlinestatbook.com/2/tests_of_means/graphics/SSE.gif\n",
    "    where Mi is the mean of the ith group and k is the number of groups. \n",
    "\n",
    "2. Compute the degrees of freedom error (dfe) by subtracting the number of groups (k) from the total number of observations (N). Therefore, dfe = N - k.\n",
    "\n",
    "3.  Compute MSE by dividing SSE by dfe: MSE = SSE/dfe.\n",
    "\n",
    "4.  For each comparison of means, use the harmonic mean of the n's for the two means (nh).\n",
    "\n",
    "All other aspects of the calculations are the same as when you have equal sample sizes."
   ]
  },
  {
   "cell_type": "markdown",
   "metadata": {},
   "source": [
    "##### Question 4 out of 7.\n",
    "Assume you did an experiment with 3 groups and 16 subjects per group. The sample variances in the three groups were 14, 16, and 18. The value of MSE would be\n"
   ]
  },
  {
   "cell_type": "code",
   "execution_count": 154,
   "metadata": {},
   "outputs": [
    {
     "data": {
      "text/plain": [
       "16.0"
      ]
     },
     "execution_count": 154,
     "metadata": {},
     "output_type": "execute_result"
    }
   ],
   "source": [
    "sum([14, 16, 18])/3"
   ]
  },
  {
   "cell_type": "markdown",
   "metadata": {},
   "source": [
    "##### Question 5 out of 7.\n",
    "Assume you did an experiment with 3 groups and 16 subjects per group. The sample variances in the three groups were 14, 16, and 18. Using Tukey's test to compare the means, what would be the value of Q for a comparison of the first mean (14) with the last mean (18)?\n"
   ]
  },
  {
   "cell_type": "code",
   "execution_count": 155,
   "metadata": {},
   "outputs": [
    {
     "data": {
      "text/plain": [
       "-4.0"
      ]
     },
     "execution_count": 155,
     "metadata": {},
     "output_type": "execute_result"
    }
   ],
   "source": [
    "14-18/(16/16)**.5"
   ]
  },
  {
   "cell_type": "markdown",
   "metadata": {},
   "source": [
    "##### Question 6 out of 7.\n",
    "Assume you did an experiment with 3 groups and 16 subjects per group. The sample variances in the three groups were 14, 16, and 18. Using Tukey's test to compare the means, what would be the df for the test?"
   ]
  },
  {
   "cell_type": "code",
   "execution_count": 156,
   "metadata": {},
   "outputs": [
    {
     "data": {
      "text/plain": [
       "45"
      ]
     },
     "execution_count": 156,
     "metadata": {},
     "output_type": "execute_result"
    }
   ],
   "source": [
    "16*3-3"
   ]
  },
  {
   "cell_type": "markdown",
   "metadata": {},
   "source": [
    "##### Question 7 out of 7.\n",
    "Assume you did an experiment with 3 groups and 16 subjects per group. The sample variances in the three groups were 14, 16, and 18. Using Tukey's test to compare the means, what would be the two-tailed probability for a comparison of the first mean (14) with the last mean (18)? "
   ]
  },
  {
   "cell_type": "code",
   "execution_count": 168,
   "metadata": {},
   "outputs": [
    {
     "data": {
      "text/plain": [
       "0.018714290629434527"
      ]
     },
     "execution_count": 168,
     "metadata": {},
     "output_type": "execute_result"
    }
   ],
   "source": [
    "from statsmodels.stats.libqsturng import psturng\n",
    "mse = (14+16+18)/3\n",
    "q = (18-14)/((mse/16)**.5)\n",
    "n = 3\n",
    "df = 45\n",
    "psturng(q,n,df)"
   ]
  },
  {
   "cell_type": "code",
   "execution_count": null,
   "metadata": {},
   "outputs": [],
   "source": []
  }
 ],
 "metadata": {
  "kernelspec": {
   "display_name": "Python 3",
   "language": "python",
   "name": "python3"
  },
  "language_info": {
   "codemirror_mode": {
    "name": "ipython",
    "version": 3
   },
   "file_extension": ".py",
   "mimetype": "text/x-python",
   "name": "python",
   "nbconvert_exporter": "python",
   "pygments_lexer": "ipython3",
   "version": "3.6.4"
  }
 },
 "nbformat": 4,
 "nbformat_minor": 2
}
