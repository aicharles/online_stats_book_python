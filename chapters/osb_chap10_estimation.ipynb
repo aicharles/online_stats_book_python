{
 "cells": [
  {
   "cell_type": "markdown",
   "metadata": {},
   "source": [
    "## Chapter 10 [Onlinestatsbook.com](onlinestatsbook.com) :  \"Estimation\"\n",
    "------  \n",
    "\n",
    "\n",
    "#### Below are selected formulas and exercises from chapter 10 of the infamous onlinestatsbook.com, a highly trusted resource for learning about statistics.  \n",
    "\n",
    "#### The formulas and exercises were chosen based on difficulty and based on if using python to understand the concept or answer the question was deemed useful.\n",
    "\n",
    "#### Please note the below does not include the questions from the case studies.  A separate notebook for each case study can be found in this repository or is forthcoming. "
   ]
  },
  {
   "cell_type": "code",
   "execution_count": 1,
   "metadata": {},
   "outputs": [],
   "source": [
    "import numpy as np\n",
    "import pandas as pd\n",
    "\n",
    "import matplotlib.pyplot as plt\n",
    "%matplotlib inline\n",
    "\n",
    "from scipy import stats"
   ]
  },
  {
   "cell_type": "markdown",
   "metadata": {},
   "source": [
    "### Section 1: \"Introduction\"\n",
    "\n",
    "One of the major applications of statistics is estimating **population parameters** from **sample statistics**. \n",
    "\n",
    "**Point estimates** are statistics that are a single value.  Point estimates are usually supplemented by interval estimates called confidence intervals. \n",
    "\n",
    "\n",
    "### Section 2: \"Degrees of Freedom\"\n",
    "\n",
    "The degrees of freedom (df) of an estimate is the number of independent pieces of information on which the estimate is based.\n",
    "\n",
    "http://onlinestatbook.com/2/estimation/df.html\n",
    "\n",
    "### Section 3: \"Characteristics of Estimators\"\n",
    "\n",
    "**Bias**\n",
    "A statistic is biased if the long-term average value of the statistic is not the parameter it is estimating. More formally, a statistic is biased if the mean of the sampling distribution of the statistic is not equal to the parameter. The mean of the sampling distribution of a statistic is sometimes referred to as the expected value of the statistic.\n",
    "\n",
    "**Sampling Variability**\n",
    "The sampling variability of a statistic refers to how much the statistic varies from sample to sample and is usually measured by its standard error ; the smaller the standard error, the less the sampling variability.\n",
    "\n",
    "### Section 8: \"Confidence Interval on the Mean\"\n",
    "\n",
    "In general, you compute the 95% confidence interval for the mean with the following formula **when we know the standard deviation of the sampling distribution of the mean (which never happens)**:\n",
    "\n",
    "Lower limit = M - Z.95σM\n",
    "\n",
    "Upper limit = M + Z.95σM\n",
    "\n",
    "You should use the t distribution rather than the normal distribution when the variance is not known and has to be estimated from sample data. \n",
    "\n",
    "However, with smaller sample sizes, the t distribution is leptokurtic, which means it has relatively more scores in its tails than does the normal distribution. As a result, you have to extend farther from the mean to contain a given proportion of the area. Recall that with a normal distribution, with a normal distribution, 95% of the distribution is within 1.96 standard deviations of the mean. Using the t distribution, if you have a sample size of only 5, 95% of the area is within 2.78 standard deviations of the mean. Therefore, the standard error of the mean would be multiplied by 2.78 rather than 1.96.\n",
    "\n",
    "#### Assume that the following five numbers are sampled from a normal distribution: 2, 3, 5, 6, and 9 and that the standard deviation is not known. The first steps are to compute the sample mean and variance:\n",
    "\n"
   ]
  },
  {
   "cell_type": "code",
   "execution_count": 2,
   "metadata": {},
   "outputs": [
    {
     "data": {
      "text/plain": [
       "7.5"
      ]
     },
     "execution_count": 2,
     "metadata": {},
     "output_type": "execute_result"
    }
   ],
   "source": [
    "nums = [2, 3, 5, 6, 9]\n",
    "sample_mean = sum(nums)/len(nums)\n",
    "sample_var = sum([(n - sample_mean)**2 for n in nums])/(len(nums)-1)\n",
    "sample_var"
   ]
  },
  {
   "cell_type": "markdown",
   "metadata": {},
   "source": [
    "#### The next step is to estimate the standard error of the mean. If we knew the population variance, we could use the following formula:\n",
    "\n",
    "![alt text][img1]\n",
    "\n",
    "[img1]: http://onlinestatbook.com/2/estimation/graphics/sem_pop.jpg\n",
    "\n",
    "#### Instead we compute an estimate of the standard error (sM):\n",
    "\n",
    "![alt text][img2]\n",
    "\n",
    "[img2]: http://onlinestatbook.com/2/estimation/graphics/sem_sample.jpg"
   ]
  },
  {
   "cell_type": "code",
   "execution_count": 3,
   "metadata": {},
   "outputs": [
    {
     "data": {
      "text/plain": [
       "1.224744871391589"
      ]
     },
     "execution_count": 3,
     "metadata": {},
     "output_type": "execute_result"
    }
   ],
   "source": [
    "std_err_estimate = sample_var**.5/len(nums)**.5\n",
    "\n",
    "std_err_estimate"
   ]
  },
  {
   "cell_type": "markdown",
   "metadata": {},
   "source": [
    "#### The next step is to find the value of t from the t-distribution table. The value for the 95% interval for df = N - 1 = 4 is 2.776. The confidence interval is then computed just as it is when σM. The only differences are that sM and t rather than σM and Z are used.\n",
    "\n",
    "![alt text][img1]\n",
    "\n",
    "[img1]: https://web.stanford.edu/dept/radiology/cgi-bin/classes/stats_data_analysis/lesson_4/t_table.gif"
   ]
  },
  {
   "cell_type": "code",
   "execution_count": 4,
   "metadata": {},
   "outputs": [
    {
     "name": "stdout",
     "output_type": "stream",
     "text": [
      "lower limit= 1.6001082370169493\n",
      "upper limit= 8.399891762983051\n"
     ]
    }
   ],
   "source": [
    "#lower limit\n",
    "\n",
    "print(\"lower limit= \"+str(sample_mean - 2.776*std_err_estimate))\n",
    "\n",
    "#upper limit\n",
    "\n",
    "print(\"upper limit= \"+str(sample_mean + 2.776*std_err_estimate))"
   ]
  },
  {
   "cell_type": "markdown",
   "metadata": {},
   "source": [
    "##### Question 3 out of 5.\n",
    "You take a sample (N = 25) of test scores from a population. The sample mean is 38, and the population standard deviation is 6.5. What is the 95% confidence interval on the mean? "
   ]
  },
  {
   "cell_type": "code",
   "execution_count": 5,
   "metadata": {},
   "outputs": [
    {
     "name": "stdout",
     "output_type": "stream",
     "text": [
      "lower limit= 35.3168\n",
      "upper limit= 40.6832\n"
     ]
    }
   ],
   "source": [
    "print(\"lower limit= \"+str(38 - 2.064*(6.5/(25**.5))))\n",
    "print(\"upper limit= \"+str(38 + 2.064*(6.5/(25**.5))))"
   ]
  },
  {
   "cell_type": "markdown",
   "metadata": {},
   "source": [
    "##### Question 4 out of 5.\n",
    "You take a sample (N = 9) of heights of fifth graders. The sample mean was 49, and the sample standard deviation was 4. What is the 99% confidence interval on the mean? "
   ]
  },
  {
   "cell_type": "code",
   "execution_count": 6,
   "metadata": {},
   "outputs": [
    {
     "name": "stdout",
     "output_type": "stream",
     "text": [
      "lower limit= 44.55466666666667\n",
      "upper limit= 53.44533333333333\n"
     ]
    }
   ],
   "source": [
    "print(\"lower limit= \"+str(49 - 3.334*(4/(9**.5))))\n",
    "print(\"upper limit= \"+str(49 + 3.334*(4/(9**.5))))"
   ]
  },
  {
   "cell_type": "markdown",
   "metadata": {},
   "source": [
    "##### Question 5 out of 5.\n",
    "Based on the data below, what is the upper limit of the 95% confidence interval for the mean of A1?\n"
   ]
  },
  {
   "cell_type": "code",
   "execution_count": 7,
   "metadata": {},
   "outputs": [
    {
     "data": {
      "text/plain": [
       "[1, 4, 5, 5, 7, 9, 10, 11, 12, 13, 14, 14, 17, 19, 20, 23, 24, 24, 24, 29]"
      ]
     },
     "execution_count": 7,
     "metadata": {},
     "output_type": "execute_result"
    }
   ],
   "source": [
    "nums = \"\"\"\n",
    "  1\n",
    "  4\n",
    "  5\n",
    "  5\n",
    "  7\n",
    "  9\n",
    " 10\n",
    " 11\n",
    " 12\n",
    " 13\n",
    " 14\n",
    " 14\n",
    " 17\n",
    " 19\n",
    " 20\n",
    " 23\n",
    " 24\n",
    " 24\n",
    " 24\n",
    " 29\"\"\"\n",
    "nums = nums.split()\n",
    "nums = [int(n) for n in nums]\n",
    "nums"
   ]
  },
  {
   "cell_type": "code",
   "execution_count": 8,
   "metadata": {},
   "outputs": [
    {
     "data": {
      "text/plain": [
       "20"
      ]
     },
     "execution_count": 8,
     "metadata": {},
     "output_type": "execute_result"
    }
   ],
   "source": [
    "len(nums)"
   ]
  },
  {
   "cell_type": "code",
   "execution_count": 9,
   "metadata": {},
   "outputs": [
    {
     "name": "stdout",
     "output_type": "stream",
     "text": [
      "lower limit= 10.515562070140449\n",
      "upper limit= 17.98443792985955\n"
     ]
    }
   ],
   "source": [
    "sample_mean = sum(nums)/len(nums)\n",
    "\n",
    "sample_var = sum([(n - sample_mean)**2 for n in nums])/(len(nums)-1)\n",
    "\n",
    "std_err_est = sample_var**.5/(len(nums)**.5)\n",
    "\n",
    "print(\"lower limit= \"+str(sample_mean - 2.093 * std_err_est))\n",
    "\n",
    "print(\"upper limit= \"+str(sample_mean + 2.093 * std_err_est))"
   ]
  },
  {
   "cell_type": "markdown",
   "metadata": {},
   "source": [
    "\n",
    "### Section 9: \"t Distribution\"\n",
    "\n",
    "consider the case in which you have a normal distribution but you do not know the standard deviation. You sample N values and compute the sample mean (M) and estimate the standard error of the mean (σM) with sM. Determining the probability that M will be within 1.96 sM of the population mean (μ)is a difficult problem because there are two ways in which M could be more than 1.96 sM from μ: \n",
    "\n",
    "(1) M could, by chance, be either very high or very low and (2) sM could, by chance, be very low. \n",
    "\n",
    "Intuitively, it makes sense that the probability of being within 1.96 standard errors of the mean should be smaller than in the case when the standard deviation is known (and cannot be underestimated). But exactly how much smaller? Fortunately, the way to work out this type of problem was solved in the early 20th century by W. S. Gosset who determined the distribution of a mean divided by an estimate of its standard error. This distribution is called the Student's t distribution or sometimes just the t distribution. \n",
    "\n",
    "The t distribution is very similar to the normal distribution when the estimate of variance is based on many degrees of freedom, but has relatively more scores in its tails when there are fewer degrees of freedom. \n",
    "\n",
    "The figure below shows t distributions with 2, 4, and 10 degrees of freedom and the standard normal distribution. Notice that the normal distribution has relatively more scores in the center of the distribution and the t distribution has relatively more in the tails. \n",
    "\n",
    "![alt text][img1]\n",
    "\n",
    "[img1]:http://onlinestatbook.com/2/estimation/graphics/t_dist.jpg"
   ]
  },
  {
   "cell_type": "markdown",
   "metadata": {},
   "source": [
    "suppose you sampled 9 values from a normal population and estimated the standard error of the mean (σM) with sM. What is the probability that M would be within 1.96sM of μ? Since the sample size is 9, there are N - 1 = 8 df. From Table 1 you can see that with 8 df the probability is 0.95 that the mean will be within 2.306 sM of μ. The probability that it will be within 1.96 sM of μ is therefore lower than 0.95. the figure below shows that 0.086 of the area of a t distribution is more than 1.96 standard deviations from the mean, so the probability that M would be less than 1.96sM from μ is 1 - 0.086 = 0.914.\n",
    "\n",
    "![alt text][img1]\n",
    "\n",
    "[img1]: http://onlinestatbook.com/2/estimation/graphics/t_area.gif"
   ]
  },
  {
   "cell_type": "markdown",
   "metadata": {},
   "source": [
    "##### Question 4 out of 5.\n",
    "In a t distribution with 10 degrees of freedom, what is the probability of getting a value within two standard deviations of the mean? "
   ]
  },
  {
   "cell_type": "code",
   "execution_count": 10,
   "metadata": {},
   "outputs": [
    {
     "data": {
      "text/plain": [
       "0.92661196522925959"
      ]
     },
     "execution_count": 10,
     "metadata": {},
     "output_type": "execute_result"
    }
   ],
   "source": [
    "from scipy import stats\n",
    "1-stats.t.sf(2,df=10)*2"
   ]
  },
  {
   "cell_type": "markdown",
   "metadata": {},
   "source": [
    "#### Question 5 out of 5.\n",
    "There is a population of test scores with an unknown standard deviation. You sample 21 scores from this population, and you calculate the mean and standard deviation. You get a value for the mean that is 1.5 standard errors greater than what you think is the population mean. What is the probability that you would get a value 1.5 standard deviations or more from the mean in this t distribution? "
   ]
  },
  {
   "cell_type": "code",
   "execution_count": 11,
   "metadata": {},
   "outputs": [
    {
     "data": {
      "text/plain": [
       "0.14923577116925255"
      ]
     },
     "execution_count": 11,
     "metadata": {},
     "output_type": "execute_result"
    }
   ],
   "source": [
    "stats.t.sf(1.5,df=20)*2"
   ]
  },
  {
   "cell_type": "markdown",
   "metadata": {},
   "source": [
    "#### Section 11: \"Confidence Interval on Diff bw Means\"\n",
    "\n",
    "The difference in sample means is used to estimate the difference in population means. The accuracy of the estimate is revealed by a confidence interval.\n",
    "In order to construct a confidence interval, we are going to make three assumptions:\n",
    " \n",
    "* The two populations have the same variance. This assumption is called the assumption of homogeneity of variance.\n",
    "* The populations are normally distributed.\n",
    "* Each value is sampled independently from each other value.\n",
    " \n",
    "The consequences of violating these assumptions are discussed in a later section. For now, suffice it to say that small-to-moderate violations of assumptions 1 and 2 do not make much difference.\n",
    "A confidence interval on the difference between means is computed using the following formula:\n",
    "* Lower Limit = M1 - M2 -(tCL)()\n",
    "* Upper Limit = M1 - M2 +(tCL)()\n",
    "\n",
    "where M1 - M2 is the difference between sample means, tCL is the t for the desired level of confidence, and  is the estimated standard error of the difference between sample means. \n",
    "\n",
    "The first step is to compute the estimate of the standard error of the difference between means. \n",
    "\n",
    "![alt text][img1]\n",
    "\n",
    "[img1]: http://onlinestatbook.com/2/sampling_distributions/graphics/equal_var.gif\n",
    "\n",
    "Since we are assuming the population variances are the same, we estimate this variance by averaging our two sample variances. Thus, our estimate of variance is:\n",
    "\n",
    "![alt text][img2]\n",
    "\n",
    "[img2]: http://onlinestatbook.com/2/estimation/graphics/MSE.gif\n",
    "\n",
    "\n",
    "The next step is to find the t to use for the confidence interval (tCL). To calculate tCL, we need to know the degrees of freedom. The degrees of freedom is the number of independent estimates of variance on which MSE is based. This is equal to (n1 - 1) + (n2 - 1) where n1 is the sample size of the first group and n2 is the sample size of the second group.\n",
    "\n",
    "\n",
    "#### Computations for Unequal Sample Sizes (optional)\n",
    "The calculations are somewhat more complicated when the sample sizes are not equal. One consideration is that MSE, the estimate of variance, counts the sample with the larger sample size more than the sample with the smaller sample size. Computationally this is done by computing the sum of squares error (SSE) as follows:\n",
    "\n",
    "![alt text][img3]\n",
    "\n",
    "[img3]: http://onlinestatbook.com/2/estimation/graphics/sse.gif\n",
    "\n",
    "\n",
    "THen, the formula\n",
    "\n",
    "![alt text][img4]\n",
    "\n",
    "[img4]: http://onlinestatbook.com/2/estimation/graphics/sed.gif\n",
    "\n",
    "Is replaced by \n",
    "\n",
    "![alt text][img5]\n",
    "\n",
    "[img5]: http://onlinestatbook.com/2/estimation/graphics/sed.gif\n",
    "\n",
    "where nh is the harmonic mean of the sample sizes and is computed as follows:\n",
    "\n",
    "![alt text][img6]\n",
    "\n",
    "[img6]: http://onlinestatbook.com/2/estimation/graphics/nh.gif\n"
   ]
  },
  {
   "cell_type": "markdown",
   "metadata": {},
   "source": [
    "##### Question 2 out of 4.\n",
    "You are comparing men and women on hours spent watching TV. You pick a sample of 12 men and 14 women and calculate a confidence interval on the difference between means. How many degrees of freedom does your t value have? "
   ]
  },
  {
   "cell_type": "code",
   "execution_count": 12,
   "metadata": {},
   "outputs": [
    {
     "data": {
      "text/plain": [
       "24"
      ]
     },
     "execution_count": 12,
     "metadata": {},
     "output_type": "execute_result"
    }
   ],
   "source": [
    "12-1+14-1"
   ]
  },
  {
   "cell_type": "markdown",
   "metadata": {},
   "source": [
    "##### Question 3 out of 4.\n",
    "You are comparing freshmen and seniors at your college on hours spent studying per day. You pick a sample of 11 people from each group. For freshmen, the mean was 3 and the variance was 1.2. For seniors, the mean was 2 and the variance was 1. Calculate a 90% confidence interval on the difference between means (freshmen - seniors). What is the lower limit of this CI? "
   ]
  },
  {
   "cell_type": "code",
   "execution_count": 13,
   "metadata": {},
   "outputs": [
    {
     "name": "stdout",
     "output_type": "stream",
     "text": [
      "lower limit= 0.2285565477625725\n"
     ]
    }
   ],
   "source": [
    "mean = 3-2\n",
    "var_est = (1.2+1)/2\n",
    "std_est = ((2 * var_est)/11)**.5\n",
    "df = 11-1+11-1\n",
    "t = 1.725\n",
    "\n",
    "print(\"lower limit= \"+str(mean - t * std_est))"
   ]
  },
  {
   "cell_type": "markdown",
   "metadata": {},
   "source": [
    "Question 4 out of 4.\n",
    "Scores on a test taken by 1st graders and 2nd graders were compared to look at development. The five 1st graders sampled got the following scores: 4, 3, 5, 7, 4. The five 2nd graders sampled got the following scores: 7, 9, 8, 6, 9. Compute the 95% confidence interval for the difference between means (2nd graders - 1st graders). "
   ]
  },
  {
   "cell_type": "code",
   "execution_count": 14,
   "metadata": {},
   "outputs": [],
   "source": [
    "first_g = [4, 3, 5, 7, 4]\n",
    "second_g = [7, 9, 8, 6, 9]"
   ]
  },
  {
   "cell_type": "code",
   "execution_count": 15,
   "metadata": {},
   "outputs": [
    {
     "name": "stdout",
     "output_type": "stream",
     "text": [
      "lower limit= 1.1374508975541944\n",
      "upper limit= 5.262549102445806\n"
     ]
    }
   ],
   "source": [
    "#diff bw means\n",
    "mean = sum(second_g)/len(second_g)-sum(first_g)/len(second_g)\n",
    "\n",
    "#calculate variance for each sample\n",
    "first_g_var_est = sum([(g-(sum(first_g)/len(second_g)))**2 for g in first_g])/(len(first_g)-1)\n",
    "second_g_var_est = sum([(g-(sum(second_g)/len(second_g)))**2 for g in second_g])/(len(second_g)-1)\n",
    "\n",
    "#use to estiamte var of diff between two samples\n",
    "var_est = (first_g_var_est+second_g_var_est)/2\n",
    "\n",
    "#use var to estimate std of diff\n",
    "std_est = ((2 * var_est)/len(first_g))**.5\n",
    "\n",
    "#calc df\n",
    "df = 5-1+5-1\n",
    "\n",
    "#find t for df=10 and .05 two tail\n",
    "t = 2.306\n",
    "\n",
    "print(\"lower limit= \"+str(mean - t * std_est))\n",
    "print(\"upper limit= \"+str(mean + t * std_est))"
   ]
  },
  {
   "cell_type": "markdown",
   "metadata": {},
   "source": [
    "#### Section 12: \"Correlation\"\n",
    "\n",
    "The computation of a confidence interval on the population value of Pearson's correlation (ρ) is complicated by the fact that the sampling distribution of r is not normally distributed. The solution lies with Fisher's z' transformation described in the section on the sampling distribution of Pearson's r. \n",
    "\n",
    "* Convert r to z'\n",
    "* Compute a confidence interval in terms of z'\n",
    "* Convert the confidence interval back to r.\n",
    "\n",
    "\n",
    "http://onlinestatbook.com/2/sampling_distributions/samp_dist_r.html"
   ]
  },
  {
   "cell_type": "code",
   "execution_count": 16,
   "metadata": {},
   "outputs": [
    {
     "name": "stdout",
     "output_type": "stream",
     "text": [
      "lower limit= -1.13428294224\n",
      "upper limit= -0.43023015829\n"
     ]
    }
   ],
   "source": [
    "def z_trans(r):\n",
    "    return(.5*np.log((1 + r) / (1 - r)))\n",
    "n=34\n",
    "r=-.654\n",
    "z = z_trans(r)\n",
    "std_err_z = 1/(n-3)**.5\n",
    "print(\"lower limit= \"+str(z - 1.96 * std_err_z))\n",
    "print(\"upper limit= \"+str(z + 1.96 * std_err_z))\n",
    "\n",
    "#use z to r table to ascertain r"
   ]
  },
  {
   "cell_type": "code",
   "execution_count": 17,
   "metadata": {},
   "outputs": [
    {
     "data": {
      "text/plain": [
       "10.000000000000002"
      ]
     },
     "execution_count": 17,
     "metadata": {},
     "output_type": "execute_result"
    }
   ],
   "source": [
    "np.exp(np.log(10))"
   ]
  },
  {
   "cell_type": "code",
   "execution_count": 18,
   "metadata": {},
   "outputs": [],
   "source": [
    "def r_trans(z):\n",
    "    return((np.exp(2*z)-1)/(np.exp(2*z)+1))"
   ]
  },
  {
   "cell_type": "code",
   "execution_count": 19,
   "metadata": {},
   "outputs": [
    {
     "data": {
      "text/plain": [
       "-0.81101926209968145"
      ]
     },
     "execution_count": 19,
     "metadata": {},
     "output_type": "execute_result"
    }
   ],
   "source": [
    "r_trans(-1.13)"
   ]
  },
  {
   "cell_type": "code",
   "execution_count": 20,
   "metadata": {},
   "outputs": [
    {
     "data": {
      "text/plain": [
       "-0.40532130868946292"
      ]
     },
     "execution_count": 20,
     "metadata": {},
     "output_type": "execute_result"
    }
   ],
   "source": [
    "r_trans(-.43)"
   ]
  },
  {
   "cell_type": "markdown",
   "metadata": {},
   "source": [
    "##### Question 2 out of 3.\n",
    "A sample of 28 was taken from a population, and r = .45. What is the 95% confidence interval for the population correlation? "
   ]
  },
  {
   "cell_type": "code",
   "execution_count": 21,
   "metadata": {},
   "outputs": [
    {
     "name": "stdout",
     "output_type": "stream",
     "text": [
      "0.0924356531087\n",
      "0.704762396957\n"
     ]
    }
   ],
   "source": [
    "n=28\n",
    "r=.45\n",
    "z = z_trans(r)\n",
    "std_err_z = 1/(n-3)**.5\n",
    "lower = z - 1.96 * std_err_z\n",
    "upper= z + 1.96 * std_err_z\n",
    "print(r_trans(lower))\n",
    "print(r_trans(upper))"
   ]
  },
  {
   "cell_type": "markdown",
   "metadata": {},
   "source": [
    "Question 3 out of 3.\n",
    "The sample correlation is -0.8. If the sample size was 40, then the 99% confidence interval states that the population correlation lies between -.909 and "
   ]
  },
  {
   "cell_type": "code",
   "execution_count": 22,
   "metadata": {},
   "outputs": [
    {
     "name": "stdout",
     "output_type": "stream",
     "text": [
      "-0.909177725768\n",
      "-0.587907909244\n"
     ]
    }
   ],
   "source": [
    "n=40\n",
    "r=-.8\n",
    "z = z_trans(r)\n",
    "std_err_z = 1/(n-3)**.5\n",
    "lower = z - 2.58 * std_err_z\n",
    "upper= z + 2.58 * std_err_z\n",
    "print(r_trans(lower))\n",
    "print(r_trans(upper))"
   ]
  },
  {
   "cell_type": "markdown",
   "metadata": {},
   "source": [
    "#### Section 14: \"Exercises\"\n",
    "\n",
    "q11 A population is known to be normally distributed with a standard deviation of 2.8. (a) Compute the 95% confidence interval on the mean based on the following sample of nine: 8, 9, 10, 13, 14, 16, 17, 20, 21. (b) Now compute the 99% confidence interval using the same data. "
   ]
  },
  {
   "cell_type": "code",
   "execution_count": 23,
   "metadata": {},
   "outputs": [
    {
     "name": "stdout",
     "output_type": "stream",
     "text": [
      "lower limit= 12.392888888888889\n",
      "upper limit= 16.051555555555556\n"
     ]
    }
   ],
   "source": [
    "nums = [8, 9, 10, 13, 14, 16, 17, 20, 21]\n",
    "sample_mean = sum(nums)/len(nums)\n",
    "pop_var= 2.8\n",
    "std_err = pop_var/len(nums)**.5\n",
    "\n",
    "#A\n",
    "print(\"lower limit= \"+str(sample_mean - 1.96*std_err))\n",
    "print(\"upper limit= \"+str(sample_mean + 1.96*std_err))"
   ]
  },
  {
   "cell_type": "code",
   "execution_count": 24,
   "metadata": {},
   "outputs": [
    {
     "name": "stdout",
     "output_type": "stream",
     "text": [
      "lower limit= 11.814222222222222\n",
      "upper limit= 16.630222222222223\n"
     ]
    }
   ],
   "source": [
    "#B\n",
    "print(\"lower limit= \"+str(sample_mean - 2.58*std_err))\n",
    "print(\"upper limit= \"+str(sample_mean + 2.58*std_err))"
   ]
  },
  {
   "cell_type": "markdown",
   "metadata": {},
   "source": [
    "##### Q12 A person claims to be able to predict the outcome of flipping a coin. This person is correct 16/25 times. Compute the 95% confidence interval on the proportion of times this person can predict coin flips correctly. What conclusion can you draw about this test of his ability to predict the future? "
   ]
  },
  {
   "cell_type": "code",
   "execution_count": 25,
   "metadata": {},
   "outputs": [
    {
     "name": "stdout",
     "output_type": "stream",
     "text": [
      "lower limit= 0.43184\n",
      "upper limit= 0.84816\n",
      "margin of error= 0.16816\n"
     ]
    }
   ],
   "source": [
    "p = 16/25\n",
    "s_p = (p*(1-p)/25)**.5\n",
    "print(\"lower limit= \"+str(p - 1.96*s_p - .5/25))\n",
    "print(\"upper limit= \"+str(p + 1.96*s_p +.5/25))\n",
    "print(\"margin of error= \"+str(1.96*s_p - .5/25))"
   ]
  },
  {
   "cell_type": "markdown",
   "metadata": {},
   "source": [
    "###### we can conclude this person cannot accurately predict the outcome of a coin flip"
   ]
  },
  {
   "cell_type": "markdown",
   "metadata": {},
   "source": [
    "##### Q13 What does it mean that the variance (computed by dividing by N) is a biased statistic?\n",
    "\n",
    "It means that sometimes it overestimates the population variance and sometimes it underestimates it but the average of a large number of measurements would equal the actual variance. "
   ]
  },
  {
   "cell_type": "markdown",
   "metadata": {},
   "source": [
    "##### Q14 A confidence interval for the population mean computed from an N of 16 ranges from 12 to 28. A new sample of 36 observations is going to be taken. You can't know in advance exactly what the confidence interval will be because it depends on the random sample. Even so, you should have some idea of what it will be. Give your best estimation. \n",
    "\n",
    "we know that we calculated the lower band of the confidence intervals as follows:\n",
    "\n",
    "20 - 1.96 x std/16^.5\n",
    "\n",
    "we can back into the standard error with some algebra:"
   ]
  },
  {
   "cell_type": "code",
   "execution_count": 26,
   "metadata": {},
   "outputs": [
    {
     "name": "stdout",
     "output_type": "stream",
     "text": [
      "lower limit= 14.666666666666668\n",
      "upper limit= 25.333333333333332\n"
     ]
    }
   ],
   "source": [
    "std = ((12-20)/-1.96)*(16**.5)\n",
    "\n",
    "#threfore the new confidence interval for a sample size of 16 will be:\n",
    "\n",
    "print(\"lower limit= \"+str(20 - 1.96*std/(36**.5)))\n",
    "print(\"upper limit= \"+str(20 + 1.96*std/(36**.5)))"
   ]
  },
  {
   "cell_type": "markdown",
   "metadata": {},
   "source": [
    "##### Q15 You take a sample of 22 from a population of test scores, and the mean of your sample is 60. (a) You know the standard deviation of the population is 10. What is the 99% confidence interval on the population mean. (b) Now assume that you do not know the population standard deviation, but the standard deviation in your sample is 10. What is the 99% confidence interval on the mean now? \n",
    "\n",
    "part A can be answered similarly to q14 replacing 1.96 with 2.576\n",
    "\n",
    "part B is calculated as follows after finding z for 22-1 for 99% confidence interval is 2.831:"
   ]
  },
  {
   "cell_type": "code",
   "execution_count": 27,
   "metadata": {},
   "outputs": [
    {
     "name": "stdout",
     "output_type": "stream",
     "text": [
      "lower limit= 53.96428771997267\n",
      "upper limit= 66.03571228002733\n"
     ]
    }
   ],
   "source": [
    "print(\"lower limit= \"+str(60 - 2.831*(10/(22**.5))))\n",
    "print(\"upper limit= \"+str(60 + 2.831*(10/(22**.5))))"
   ]
  },
  {
   "cell_type": "markdown",
   "metadata": {},
   "source": [
    "##### Q16 You read about a survey in a newspaper and find that 70% of the 250 people sampled prefer Candidate A. You are surprised by this survey because you thought that more like 50% of the population preferred this candidate. Based on this sample, is 50% a possible population proportion? Compute the 95% confidence interval to be sure."
   ]
  },
  {
   "cell_type": "code",
   "execution_count": 28,
   "metadata": {},
   "outputs": [
    {
     "name": "stdout",
     "output_type": "stream",
     "text": [
      "lower limit= 0.6411938031549373\n",
      "upper limit= 0.7588061968450626\n",
      "margin of error= 0.0548061968450626\n"
     ]
    }
   ],
   "source": [
    "p = .7\n",
    "s_p = (p*(1-p)/250)**.5\n",
    "print(\"lower limit= \"+str(p - 1.96*s_p - .5/250))\n",
    "print(\"upper limit= \"+str(p + 1.96*s_p +.5/250))\n",
    "print(\"margin of error= \"+str(1.96*s_p - .5/250))\n"
   ]
  },
  {
   "cell_type": "markdown",
   "metadata": {},
   "source": [
    "50% is way outside the confidence interval"
   ]
  },
  {
   "cell_type": "markdown",
   "metadata": {},
   "source": [
    "##### Q17 Heights for teenage boys and girls were calculated. The mean height for the sample of 12 boys was 174 cm and the variance was 62. For the sample of 12 girls, the mean was 166 cm and the variance was 65. (a) What is the 95% confidence interval on the difference between population means? (b) What is the 99% confidence interval on the difference between population means? (c) Do you think the mean difference in the population could be about 5? Why or why not? "
   ]
  },
  {
   "cell_type": "code",
   "execution_count": 29,
   "metadata": {},
   "outputs": [
    {
     "name": "stdout",
     "output_type": "stream",
     "text": [
      "lower limit= 1.2528558387023239\n",
      "upper limit= 14.747144161297676\n"
     ]
    }
   ],
   "source": [
    "#a\n",
    "mean_diff = 174 - 166\n",
    "var_est = (62+65)/2\n",
    "std_err_est = ((2 * var_est)/12)**.5\n",
    "#find t for df=22 and .05 two tail\n",
    "t = 2.074\n",
    "\n",
    "print(\"lower limit= \"+str(mean_diff - t * std_err_est))\n",
    "print(\"upper limit= \"+str(mean_diff + t * std_err_est))"
   ]
  },
  {
   "cell_type": "code",
   "execution_count": 30,
   "metadata": {},
   "outputs": [
    {
     "name": "stdout",
     "output_type": "stream",
     "text": [
      "lower limit= -1.1707808055439486\n",
      "upper limit= 17.17078080554395\n"
     ]
    }
   ],
   "source": [
    "#b\n",
    "#find t for df=22 and .05 two tail\n",
    "t = 2.819\n",
    "\n",
    "print(\"lower limit= \"+str(mean_diff - t * std_err_est))\n",
    "print(\"upper limit= \"+str(mean_diff + t * std_err_est))"
   ]
  },
  {
   "cell_type": "markdown",
   "metadata": {},
   "source": [
    "#c  \n",
    "the mean difference could be about five because that value is well within the confidence interval"
   ]
  },
  {
   "cell_type": "markdown",
   "metadata": {},
   "source": [
    "##### Q18 You were interested in how long the average psychology major at your college studies per night, so you asked 10 psychology majors to tell you the amount they study. They told you the following times: 2, 1.5, 3, 2, 3.5, 1, 0.5, 3, 2, 4. (a) Find the 95% confidence interval on the population mean. (b) Find the 90% confidence interval on the population mean."
   ]
  },
  {
   "cell_type": "code",
   "execution_count": 31,
   "metadata": {},
   "outputs": [
    {
     "name": "stdout",
     "output_type": "stream",
     "text": [
      "lower limit= 1.454717628763217\n",
      "upper limit= 3.045282371236783\n"
     ]
    }
   ],
   "source": [
    "nums = [2, 1.5, 3, 2, 3.5, 1, 0.5, 3, 2, 4.]\n",
    "\n",
    "sample_mean = sum(nums)/len(nums)\n",
    "\n",
    "sample_var = sum([(n - sample_mean)**2 for n in nums])/(len(nums)-1)\n",
    "\n",
    "std_err_est = sample_var**.5/(len(nums)**.5)\n",
    "\n",
    "#a\n",
    "print(\"lower limit= \"+str(sample_mean - 2.262 * std_err_est))\n",
    "print(\"upper limit= \"+str(sample_mean + 2.262 * std_err_est))"
   ]
  },
  {
   "cell_type": "markdown",
   "metadata": {},
   "source": [
    "\n",
    "##### Q19 True/false: As the sample size gets larger, the probability that the confidence interval will contain the population mean gets higher. (relevant section & relevant section)\n",
    "\n",
    "true\n",
    "\n",
    "\n",
    "##### Q21 True/false: You have a sample of 9 men and a sample of 8 women. The degrees of freedom for the t value in your confidence interval on the difference between means is 16. (relevant section & relevant section)\n",
    "\n",
    "false it is 15 assuming we don't know the population variance\n",
    "\n",
    "##### Q22 True/false: Greek letters are used for statistics as opposed to parameters. (relevant section)\n",
    "\n",
    "false\n",
    "\n",
    "##### Q23 True/false: In order to construct a confidence interval on the difference between means, you need to assume that the populations have the same variance and are both normally distributed. (relevant section)\n",
    "\n",
    "false \n"
   ]
  },
  {
   "cell_type": "markdown",
   "metadata": {},
   "source": [
    "#### remaining exercises are from case studies.  please go to those individual notebooks to peruse the responses to those exercises.  that concludes chapter 10!"
   ]
  }
 ],
 "metadata": {
  "kernelspec": {
   "display_name": "Python 3",
   "language": "python",
   "name": "python3"
  },
  "language_info": {
   "codemirror_mode": {
    "name": "ipython",
    "version": 3
   },
   "file_extension": ".py",
   "mimetype": "text/x-python",
   "name": "python",
   "nbconvert_exporter": "python",
   "pygments_lexer": "ipython3",
   "version": "3.6.4"
  }
 },
 "nbformat": 4,
 "nbformat_minor": 2
}
