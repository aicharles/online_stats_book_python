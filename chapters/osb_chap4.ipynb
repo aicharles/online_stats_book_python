{
 "cells": [
  {
   "cell_type": "markdown",
   "metadata": {},
   "source": [
    "## Chapter 4 [Onlinestatsbook.com](onlinestatsbook.com) :  \"Describing Bivariate Data\"\n",
    "------  \n",
    "\n",
    "\n",
    "#### Below are selected formulas and exercises from chapter 4 of the infamous onlinestatsbook.com, used by countless people interested in learning about statistics.  \n",
    "\n",
    "#### The formulas and exercises were chosen based on difficulty and based on if using python to understand the concept or answer the question was deemed useful.\n",
    "\n",
    "#### Please note the below does not include the questions from the case studies.  A separate notebook for each case study can be found in this repository or is forthcoming.  "
   ]
  },
  {
   "cell_type": "code",
   "execution_count": 1,
   "metadata": {},
   "outputs": [],
   "source": [
    "import numpy as np\n",
    "import pandas as pd\n",
    "import math"
   ]
  },
  {
   "cell_type": "markdown",
   "metadata": {},
   "source": [
    "#### Pearsons correlation is a big topic in the chapter.  Here is a method of calculating it:"
   ]
  },
  {
   "cell_type": "code",
   "execution_count": 2,
   "metadata": {},
   "outputs": [],
   "source": [
    "def pearson_r (X,Y):\n",
    "    x_mean=sum(X)/len(X)\n",
    "    y_mean=sum(Y)/len(Y)\n",
    "    x = np.asarray([x-x_mean for x in X])\n",
    "    y = np.asarray([y-y_mean for y in Y])\n",
    "    r=sum(x*y)/math.sqrt(sum(x*x)*sum(y*y))\n",
    "    return r"
   ]
  },
  {
   "cell_type": "markdown",
   "metadata": {},
   "source": [
    "####  Testing it out"
   ]
  },
  {
   "cell_type": "code",
   "execution_count": 3,
   "metadata": {},
   "outputs": [],
   "source": [
    "x = np.asarray([1,2,3])"
   ]
  },
  {
   "cell_type": "code",
   "execution_count": 4,
   "metadata": {},
   "outputs": [],
   "source": [
    "y= np.asarray([2,8,4])"
   ]
  },
  {
   "cell_type": "code",
   "execution_count": 5,
   "metadata": {},
   "outputs": [
    {
     "data": {
      "text/plain": [
       "0.32732683535398854"
      ]
     },
     "execution_count": 5,
     "metadata": {},
     "output_type": "execute_result"
    }
   ],
   "source": [
    "pearson_r(x,y)"
   ]
  },
  {
   "cell_type": "markdown",
   "metadata": {},
   "source": [
    "#### Variance sum law exercises  (section 8)\n",
    "\n",
    "Question 1 out of 2.\n",
    "If the variance of Test A is 100, the variance of Test B is 225, and the correlation between the tests is 0.5, what is the variance of Test A + Test B? "
   ]
  },
  {
   "cell_type": "code",
   "execution_count": 6,
   "metadata": {},
   "outputs": [],
   "source": [
    "var_A = 100\n",
    "var_B = 225\n",
    "AB_corr = .5"
   ]
  },
  {
   "cell_type": "code",
   "execution_count": 7,
   "metadata": {},
   "outputs": [
    {
     "data": {
      "text/plain": [
       "475.0"
      ]
     },
     "execution_count": 7,
     "metadata": {},
     "output_type": "execute_result"
    }
   ],
   "source": [
    "var_A+var_B+(2*AB_corr*math.sqrt(var_A)*math.sqrt(var_B))"
   ]
  },
  {
   "cell_type": "markdown",
   "metadata": {},
   "source": [
    "Test A minus test B"
   ]
  },
  {
   "cell_type": "code",
   "execution_count": 8,
   "metadata": {},
   "outputs": [
    {
     "data": {
      "text/plain": [
       "175.0"
      ]
     },
     "execution_count": 8,
     "metadata": {},
     "output_type": "execute_result"
    }
   ],
   "source": [
    "var_A+var_B-(2*AB_corr*math.sqrt(var_A)*math.sqrt(var_B))"
   ]
  },
  {
   "cell_type": "markdown",
   "metadata": {},
   "source": [
    "### Selected exercises (view separate notebooks for exercises pertaining to case studies)"
   ]
  },
  {
   "cell_type": "markdown",
   "metadata": {},
   "source": [
    "#### Q2 Make up a data set with 10 numbers that has a positive correlation. "
   ]
  },
  {
   "cell_type": "code",
   "execution_count": 9,
   "metadata": {},
   "outputs": [
    {
     "name": "stdout",
     "output_type": "stream",
     "text": [
      "(1.0, 0.0)\n",
      "1.0\n"
     ]
    }
   ],
   "source": [
    "from scipy.stats.stats import pearsonr \n",
    "x = np.arange(2,16,1.5)\n",
    "y = np.arange(1,21,2)\n",
    "print(pearsonr(x,y))\n",
    "print(pearson_r(x,y))"
   ]
  },
  {
   "cell_type": "markdown",
   "metadata": {},
   "source": [
    "#### Q3. Make up a data set with 10 numbers that has a negative correlation. "
   ]
  },
  {
   "cell_type": "code",
   "execution_count": 10,
   "metadata": {},
   "outputs": [
    {
     "name": "stdout",
     "output_type": "stream",
     "text": [
      "[ 15.5  14.   12.5  11.    9.5   8.    6.5   5.    3.5   2. ]\n"
     ]
    }
   ],
   "source": [
    "x = np.arange(2,16,1.5)\n",
    "y = np.arange(1,21,2)\n",
    "reversed_x = x[::-1]\n",
    "print(reversed_x)"
   ]
  },
  {
   "cell_type": "code",
   "execution_count": 11,
   "metadata": {},
   "outputs": [
    {
     "name": "stdout",
     "output_type": "stream",
     "text": [
      "(-1.0, 0.0)\n",
      "-1.0\n"
     ]
    }
   ],
   "source": [
    "print(pearsonr(reversed_x,y))\n",
    "print(pearson_r(reversed_x,y))"
   ]
  },
  {
   "cell_type": "markdown",
   "metadata": {},
   "source": [
    "#### Q8 For the following data:\n",
    "\n",
    "A\n",
    "2\n",
    "5\n",
    "6\n",
    "8\n",
    "9\n",
    "\n",
    "B\n",
    "8\n",
    "5\n",
    "2\n",
    "4\n",
    "1  \n",
    "\n",
    "\n",
    "Find the deviation scores for Variable A that correspond to the raw scores of 2 and 8.\n",
    "Find the deviation scores for Variable B that correspond to the raw scores of 5 and 4.\n",
    "Just from looking at these scores, do you think these variable A and B are positively or negatively correlated? Why?\n",
    "Now calculate the correlation. Were you right? \n",
    "(relevant section)\n"
   ]
  },
  {
   "cell_type": "code",
   "execution_count": 12,
   "metadata": {},
   "outputs": [],
   "source": [
    "a = np.array(\"2 5 6 8 9\".split(), dtype=int)\n",
    "b = np.array(\"8 5 2 4 1\".split(), dtype=int)"
   ]
  },
  {
   "cell_type": "code",
   "execution_count": 13,
   "metadata": {},
   "outputs": [
    {
     "data": {
      "text/plain": [
       "array([2, 5, 6, 8, 9])"
      ]
     },
     "execution_count": 13,
     "metadata": {},
     "output_type": "execute_result"
    }
   ],
   "source": [
    "a"
   ]
  },
  {
   "cell_type": "code",
   "execution_count": 14,
   "metadata": {},
   "outputs": [
    {
     "name": "stdout",
     "output_type": "stream",
     "text": [
      "-4.0\n",
      "2.0\n"
     ]
    }
   ],
   "source": [
    "print(2-a.mean())\n",
    "print(8-a.mean())"
   ]
  },
  {
   "cell_type": "code",
   "execution_count": 15,
   "metadata": {},
   "outputs": [
    {
     "name": "stdout",
     "output_type": "stream",
     "text": [
      "1.0\n",
      "0.0\n"
     ]
    }
   ],
   "source": [
    "print(5-b.mean())\n",
    "print(4-b.mean())"
   ]
  },
  {
   "cell_type": "code",
   "execution_count": 16,
   "metadata": {},
   "outputs": [
    {
     "data": {
      "text/plain": [
       "(-0.8666666666666667, 0.057261098873566459)"
      ]
     },
     "execution_count": 16,
     "metadata": {},
     "output_type": "execute_result"
    }
   ],
   "source": [
    "pearsonr(a,b)"
   ]
  }
 ],
 "metadata": {
  "kernelspec": {
   "display_name": "Python 3",
   "language": "python",
   "name": "python3"
  },
  "language_info": {
   "codemirror_mode": {
    "name": "ipython",
    "version": 3
   },
   "file_extension": ".py",
   "mimetype": "text/x-python",
   "name": "python",
   "nbconvert_exporter": "python",
   "pygments_lexer": "ipython3",
   "version": "3.6.4"
  }
 },
 "nbformat": 4,
 "nbformat_minor": 2
}
