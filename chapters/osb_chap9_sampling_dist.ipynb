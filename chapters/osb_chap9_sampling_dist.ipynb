{
 "cells": [
  {
   "cell_type": "markdown",
   "metadata": {},
   "source": [
    "## Chapter 9 [Onlinestatsbook.com](onlinestatsbook.com) :  \"Sampling Distributions\"\n",
    "------  \n",
    "\n",
    "\n",
    "#### Below are selected formulas and exercises from chapter 8 of the infamous onlinestatsbook.com, a highly trusted resource for learning about statistics.  \n",
    "\n",
    "#### The formulas and exercises were chosen based on difficulty and based on if using python to understand the concept or answer the question was deemed useful.\n",
    "\n",
    "#### Please note the below does not include the questions from the case studies.  A separate notebook for each case study can be found in this repository or is forthcoming. "
   ]
  },
  {
   "cell_type": "code",
   "execution_count": 8,
   "metadata": {},
   "outputs": [],
   "source": [
    "import numpy as np\n",
    "import pandas as pd\n",
    "\n",
    "import matplotlib.pyplot as plt\n",
    "%matplotlib inline"
   ]
  },
  {
   "cell_type": "markdown",
   "metadata": {},
   "source": [
    "### Assessing Distributional Assumptions\n",
    "\n",
    "#### the fair spinner test"
   ]
  },
  {
   "cell_type": "code",
   "execution_count": 6,
   "metadata": {},
   "outputs": [
    {
     "data": {
      "image/png": "[encoded data removed]",
      "text/plain": [
       "<matplotlib.figure.Figure at 0x11182c470>"
      ]
     },
     "metadata": {},
     "output_type": "display_data"
    }
   ],
   "source": [
    "\n",
    "np.random.seed(10) #seed random number generator\n",
    "test_data = np.random.randn(100) #100 random numbers from the spinner\n",
    "plt.hist(test_data)  #visualize with histogram\n",
    "plt.show()"
   ]
  },
  {
   "cell_type": "markdown",
   "metadata": {},
   "source": [
    "### Section 6: \"Sampling Distribution of the Mean\""
   ]
  },
  {
   "cell_type": "markdown",
   "metadata": {},
   "source": [
    "population_mean = #mean of sampling distribution of the mean\n",
    "\n",
    "therefore....\n",
    "\n",
    "mean of sampling distribution of the mean is also the population mean"
   ]
  },
  {
   "cell_type": "markdown",
   "metadata": {},
   "source": [
    "variance of the sampling distribution of the mean (or any sampling distribution)\n",
    "population variance divided by sample size\n",
    "larger the sample size, larger the variance"
   ]
  },
  {
   "cell_type": "markdown",
   "metadata": {},
   "source": [
    "standard error is the standard deviation of the sampling distribution \n",
    "which is...\n",
    "square root of (the variance of the sampling distribution divided by sample size)"
   ]
  },
  {
   "cell_type": "markdown",
   "metadata": {},
   "source": [
    "The central limit theorem states that:\n",
    "Given a population with a finite mean μ and a finite non-zero variance σ2, the sampling distribution of the mean approaches a normal distribution with a mean of μ and a variance of σ2/N as N, the sample size, increases."
   ]
  },
  {
   "cell_type": "markdown",
   "metadata": {},
   "source": [
    "**regardless of the shape of the parent population, the sampling distribution of the mean approaches a normal distribution as N increases**"
   ]
  },
  {
   "cell_type": "markdown",
   "metadata": {},
   "source": [
    "Question 1 out of 5.\n",
    "The population has a mean of 14 and a standard deviation of 3. The sample size of your sampling distribution is N=10. What is the mean of the sampling distribution of the mean?"
   ]
  },
  {
   "cell_type": "code",
   "execution_count": 15,
   "metadata": {},
   "outputs": [
    {
     "data": {
      "text/plain": [
       "14"
      ]
     },
     "execution_count": 15,
     "metadata": {},
     "output_type": "execute_result"
    }
   ],
   "source": [
    "#population mean is equal to the mean of the sampling distribution of the mean\n",
    "14"
   ]
  },
  {
   "cell_type": "markdown",
   "metadata": {},
   "source": [
    "Question 2 out of 5.\n",
    "The population has a mean of 30 and a standard deviation of 6. The sample size of your sampling distribution is N=9. What is the variance of the sampling distribution of the mean?\n"
   ]
  },
  {
   "cell_type": "code",
   "execution_count": 16,
   "metadata": {},
   "outputs": [
    {
     "data": {
      "text/plain": [
       "4.0"
      ]
     },
     "execution_count": 16,
     "metadata": {},
     "output_type": "execute_result"
    }
   ],
   "source": [
    "#variance of sampling distribution is equal to the population variance divided by sample size\n",
    "6**2/9"
   ]
  },
  {
   "cell_type": "markdown",
   "metadata": {},
   "source": [
    "Question 3 out of 5.\n",
    "The population has a mean of 120 and a standard deviation of 12. The sample size of your sampling distribution is N=16. What is the standard error of the mean?"
   ]
  },
  {
   "cell_type": "code",
   "execution_count": 17,
   "metadata": {},
   "outputs": [
    {
     "data": {
      "text/plain": [
       "3.0"
      ]
     },
     "execution_count": 17,
     "metadata": {},
     "output_type": "execute_result"
    }
   ],
   "source": [
    "#standard error is equal to the  square root of the variance (standard dev) divided by square root of sample size\n",
    "12/16**(.5)"
   ]
  },
  {
   "cell_type": "markdown",
   "metadata": {},
   "source": [
    "### Section 7: \"Sampling Distribution of Difference Between Means\""
   ]
  },
  {
   "cell_type": "markdown",
   "metadata": {},
   "source": [
    "the variance of the sampling distribution of the difference between means is simply the sum of the variance of the two sampleing distributuions.  regardless of if it's the difference or the sum the variance is the sum.'"
   ]
  },
  {
   "cell_type": "markdown",
   "metadata": {},
   "source": [
    "naturally, the standard error is the square root of that value"
   ]
  },
  {
   "cell_type": "markdown",
   "metadata": {},
   "source": [
    "Question 1 out of 4.\n",
    "Population 1 has a mean of 20 and a variance of 100. Population 2 has a mean of 15 and a variance of 64. You sample 20 scores from Pop 1 and 16 scores from Pop 2. What is the mean of the sampling distribution of the difference between means (Pop 1 - Pop 2)? "
   ]
  },
  {
   "cell_type": "code",
   "execution_count": 23,
   "metadata": {},
   "outputs": [
    {
     "data": {
      "text/plain": [
       "5"
      ]
     },
     "execution_count": 23,
     "metadata": {},
     "output_type": "execute_result"
    }
   ],
   "source": [
    "20 -15\n"
   ]
  },
  {
   "cell_type": "markdown",
   "metadata": {},
   "source": [
    "Question 2 out of 4.\n",
    "Population 1 has a mean of 20 and a variance of 100. Population 2 has a mean of 15 and a variance of 64. You sample 20 scores from Pop 1 and 16 scores from Pop 2. What is the variance of the sampling distribution of the difference between means (Pop 1 - Pop 2)?"
   ]
  },
  {
   "cell_type": "code",
   "execution_count": 24,
   "metadata": {},
   "outputs": [
    {
     "data": {
      "text/plain": [
       "9.0"
      ]
     },
     "execution_count": 24,
     "metadata": {},
     "output_type": "execute_result"
    }
   ],
   "source": [
    "100/20+64/16"
   ]
  },
  {
   "cell_type": "markdown",
   "metadata": {},
   "source": [
    "Question 3 out of 4.\n",
    "The mean height of 15-year-old boys is 175 cm and the variance is 64. For girls, the mean is 165 and the variance is 64. If 8 boys and 8 girls were sampled, what is the probability that the mean height of the sample of boys would be at least 6 cm higher than the mean height of the sample of girls?"
   ]
  },
  {
   "cell_type": "code",
   "execution_count": 26,
   "metadata": {},
   "outputs": [
    {
     "data": {
      "text/plain": [
       "0.84134474606854293"
      ]
     },
     "execution_count": 26,
     "metadata": {},
     "output_type": "execute_result"
    }
   ],
   "source": [
    "diff_mean = 175-165\n",
    "diff_std =  ((2*64)/8)**.5\n",
    "from scipy import stats \n",
    "1- stats.norm.cdf(6,diff_mean,diff_std) "
   ]
  },
  {
   "cell_type": "markdown",
   "metadata": {},
   "source": [
    "Question 4 out of 4.\n",
    "The mean time to complete a task is 727 millisecond for 3rd graders and 532 milliseconds for 5th graders. The variances of the two grades are 12,000 for 3rd graders and 10,000 for 5th graders. The times for both grades are normally distributed. You randomly sample 12 3rd graders and 14 5th graders. What is the probability that the mean time of the 3rd graders will exceed the mean time of the 5th graders by 150 msec or more? "
   ]
  },
  {
   "cell_type": "code",
   "execution_count": 30,
   "metadata": {},
   "outputs": [
    {
     "data": {
      "text/plain": [
       "0.86144916636530766"
      ]
     },
     "execution_count": 30,
     "metadata": {},
     "output_type": "execute_result"
    }
   ],
   "source": [
    "diff_mean = 727-532\n",
    "diff_std =  ((12000/12)+(10000/14))**.5\n",
    "1- stats.norm.cdf(150,diff_mean,diff_std) "
   ]
  },
  {
   "cell_type": "markdown",
   "metadata": {},
   "source": [
    "### Section 7: \"Sampling Distribution of Pearson's r\""
   ]
  },
  {
   "cell_type": "code",
   "execution_count": 52,
   "metadata": {},
   "outputs": [],
   "source": [
    "pearsonr = []\n",
    "for _ in range(500):\n",
    "    x = np.random.normal(3,4,10)\n",
    "    y = np.random.normal(2,5,10)\n",
    "    r,p = stats.pearsonr(x,y)\n",
    "    pearsonr.append(r)"
   ]
  },
  {
   "cell_type": "code",
   "execution_count": 53,
   "metadata": {},
   "outputs": [
    {
     "data": {
      "text/plain": [
       "<matplotlib.axes._subplots.AxesSubplot at 0x1a17209ba8>"
      ]
     },
     "execution_count": 53,
     "metadata": {},
     "output_type": "execute_result"
    },
    {
     "data": {
      "image/png": "[encoded data removed]",
      "text/plain": [
       "<matplotlib.figure.Figure at 0x1a171fd550>"
      ]
     },
     "metadata": {},
     "output_type": "display_data"
    }
   ],
   "source": [
    "import seaborn as sns\n",
    "sns.distplot(pearsonr)"
   ]
  },
  {
   "cell_type": "code",
   "execution_count": 69,
   "metadata": {},
   "outputs": [
    {
     "data": {
      "text/plain": [
       "0.0092109593382703556"
      ]
     },
     "execution_count": 69,
     "metadata": {},
     "output_type": "execute_result"
    }
   ],
   "source": [
    "x = np.random.normal(2,5,1000)\n",
    "y = np.random.normal(2,5,1000)\n",
    "r,p = stats.pearsonr(x,y)\n",
    "r"
   ]
  },
  {
   "cell_type": "markdown",
   "metadata": {},
   "source": [
    "the probability in a sample of a certain size the correlation would be some value x between -1 and 1.\n",
    "\n",
    "since the sampling distribution is not normal, you would still not be able to solve the problem. Fortunately, the statistician Fisher developed a way to transform r to a variable that is normally distributed with a known standard error. The variable is called z' and the formula for the transformation is given below.\n",
    "\n",
    "z' = 0.5 ln[(1+r)/(1-r)] \n",
    "z' is normally distributed and has a standard error of 1/sqrt(n-3)"
   ]
  },
  {
   "cell_type": "markdown",
   "metadata": {},
   "source": [
    "Question 2 out of 4.\n",
    "What is the corresponding z' for r = -.65? "
   ]
  },
  {
   "cell_type": "code",
   "execution_count": 71,
   "metadata": {},
   "outputs": [
    {
     "data": {
      "text/plain": [
       "-0.7752987062055835"
      ]
     },
     "execution_count": 71,
     "metadata": {},
     "output_type": "execute_result"
    }
   ],
   "source": [
    "r = -.65\n",
    ".5*np.log((1 + r) / (1 - r)) "
   ]
  },
  {
   "cell_type": "markdown",
   "metadata": {},
   "source": [
    "Question 3 out of 4.\n",
    "Which of these r values is the most different from its corresponding z'? "
   ]
  },
  {
   "cell_type": "code",
   "execution_count": 72,
   "metadata": {},
   "outputs": [
    {
     "data": {
      "text/plain": [
       "0.0"
      ]
     },
     "execution_count": 72,
     "metadata": {},
     "output_type": "execute_result"
    }
   ],
   "source": [
    "def z_trans(r):\n",
    "    return(.5*np.log((1 + r) / (1 - r)))\n",
    "\n",
    "z_trans(0)\n",
    "    "
   ]
  },
  {
   "cell_type": "code",
   "execution_count": 73,
   "metadata": {},
   "outputs": [
    {
     "data": {
      "text/plain": [
       "0.69314718055994529"
      ]
     },
     "execution_count": 73,
     "metadata": {},
     "output_type": "execute_result"
    }
   ],
   "source": [
    "z_trans(.6)"
   ]
  },
  {
   "cell_type": "code",
   "execution_count": 74,
   "metadata": {},
   "outputs": [
    {
     "data": {
      "text/plain": [
       "0.20273255405408211"
      ]
     },
     "execution_count": 74,
     "metadata": {},
     "output_type": "execute_result"
    }
   ],
   "source": [
    "z_trans(.2)"
   ]
  },
  {
   "cell_type": "code",
   "execution_count": 75,
   "metadata": {},
   "outputs": [
    {
     "data": {
      "text/plain": [
       "-1.0986122886681098"
      ]
     },
     "execution_count": 75,
     "metadata": {},
     "output_type": "execute_result"
    }
   ],
   "source": [
    "z_trans(-.8)"
   ]
  },
  {
   "cell_type": "markdown",
   "metadata": {},
   "source": [
    "Although you could plug all of these values into the r to z' calculator, you don't need to do that. You know the r with the biggest absolute value has the most skewed sampling distribution, so it is the most different from its corresponding z'.\n",
    "\n"
   ]
  },
  {
   "cell_type": "markdown",
   "metadata": {},
   "source": [
    "### Section 9: \"Sampling Distribution of p\"\n",
    "\n",
    "The binomial distribution is the distribution of the total number of successes (favoring Candidate A, for example) whereas the distribution of p is the distribution of the mean number of successes. The mean, of course, is the total divided by the sample size, N. Therefore, the sampling distribution of p and the binomial distribution differ in that p is the mean of the scores (0.70) and the binomial distribution is dealing with the total number of successes (7).\n",
    "The binomial distribution has a mean of\n",
    "μ = Nπ\n",
    "\n",
    "The standard deviation of the binomial distribution is:\n",
    "\n",
    "![alt text][img1]\n",
    "\n",
    "[img1]: http://onlinestatbook.com/2/sampling_distributions/graphics/sd_binomial.gif\n",
    "\n",
    "Dividing by N because p is a mean not a total, we find the standard error of p:\n",
    "\n",
    "![alt text][img2]\n",
    "\n",
    "[img2]:http://onlinestatbook.com/2/sampling_distributions/graphics/sderr-p.gif\n",
    "\n",
    "The sampling distribution of p is a discrete rather than a continuous distribution. For example, with an N of 10, it is possible to have a p of 0.50 or a p of 0.60 but not a p of 0.55.\n",
    "The sampling distribution of p is approximately normally distributed if N is fairly large and π is not close to 0 or 1. A rule of thumb is that the approximation is good if both Nπ and N(1 - π) are greater than 10. The sampling distribution for the voter example is shown in Figure 1. Note that even though N(1 - π) is only 4, the approximation is quite good.  \n",
    "![alt text][img3]\n",
    "\n",
    "[img3]:http://onlinestatbook.com/2/sampling_distributions/graphics/normal_approx.gif"
   ]
  },
  {
   "cell_type": "code",
   "execution_count": 100,
   "metadata": {},
   "outputs": [],
   "source": [
    "sample_ps = []\n",
    "for _ in range (100):\n",
    "    x=np.random.binomial(1,.6,10)\n",
    "    sample_ps.append(sum(x)/len(x))"
   ]
  },
  {
   "cell_type": "code",
   "execution_count": 101,
   "metadata": {},
   "outputs": [
    {
     "data": {
      "text/plain": [
       "0.62000000000000011"
      ]
     },
     "execution_count": 101,
     "metadata": {},
     "output_type": "execute_result"
    }
   ],
   "source": [
    "sum(sample_ps)/len(sample_ps)"
   ]
  },
  {
   "cell_type": "markdown",
   "metadata": {},
   "source": [
    "Question 2 out of 3.\n",
    "Out of 300 students in the school, 225 passed an exam. What would be the mean of the sampling distribution of the proportion of students who passed the exam in the school? "
   ]
  },
  {
   "cell_type": "code",
   "execution_count": 102,
   "metadata": {},
   "outputs": [
    {
     "data": {
      "text/plain": [
       "0.75"
      ]
     },
     "execution_count": 102,
     "metadata": {},
     "output_type": "execute_result"
    }
   ],
   "source": [
    "225/300"
   ]
  },
  {
   "cell_type": "markdown",
   "metadata": {},
   "source": [
    "Question 3 out of 3.\n",
    "Out of 300 students in the school, 225 passed an exam. You take a sample of 10 of these students. What is the standard error of p? "
   ]
  },
  {
   "cell_type": "code",
   "execution_count": 104,
   "metadata": {},
   "outputs": [
    {
     "data": {
      "text/plain": [
       "0.13693063937629152"
      ]
     },
     "execution_count": 104,
     "metadata": {},
     "output_type": "execute_result"
    }
   ],
   "source": [
    "((.75*.25)/10)**.5"
   ]
  },
  {
   "cell_type": "markdown",
   "metadata": {},
   "source": [
    "### Section 11: \"Exercises\""
   ]
  },
  {
   "cell_type": "markdown",
   "metadata": {},
   "source": [
    "1- A population has a mean of 50 and a standard deviation of 6. (a) What are the mean and standard deviation of the sampling distribution of the mean for N = 16? (b) What are the mean and standard deviation of the sampling distribution of the mean for N = 20?"
   ]
  },
  {
   "cell_type": "code",
   "execution_count": 106,
   "metadata": {},
   "outputs": [],
   "source": [
    "#a\n",
    "mean = 50\n",
    "sd = 6/4\n",
    "#b\n",
    "mean = 50\n",
    "sd = 6/20**.5"
   ]
  },
  {
   "cell_type": "markdown",
   "metadata": {},
   "source": [
    "2 Given a test that is normally distributed with a mean of 100 and a standard deviation of 12, find:\n",
    "\n",
    "(a) the probability that a single score drawn at random will be greater than 110 (relevant section)  \n",
    "\n",
    "(b) the probability that a sample of 25 scores will have a mean greater than 105 (relevant section)  \n",
    "\n",
    "(c) the probability that a sample of 64 scores will have a mean greater than 105 (relevant section)  \n",
    "\n",
    "(d) the probability that the mean of a sample of 16 scores will be either less than 95 or greater than 105"
   ]
  },
  {
   "cell_type": "code",
   "execution_count": 107,
   "metadata": {},
   "outputs": [
    {
     "data": {
      "text/plain": [
       "0.20232838096364314"
      ]
     },
     "execution_count": 107,
     "metadata": {},
     "output_type": "execute_result"
    }
   ],
   "source": [
    "#a\n",
    "1- stats.norm.cdf(110,100,12) "
   ]
  },
  {
   "cell_type": "code",
   "execution_count": 108,
   "metadata": {},
   "outputs": [
    {
     "data": {
      "text/plain": [
       "0.018610425189886315"
      ]
     },
     "execution_count": 108,
     "metadata": {},
     "output_type": "execute_result"
    }
   ],
   "source": [
    "#b\n",
    "\n",
    "1- stats.norm.cdf(105,100,12/5) "
   ]
  },
  {
   "cell_type": "code",
   "execution_count": 109,
   "metadata": {},
   "outputs": [
    {
     "data": {
      "text/plain": [
       "0.0004290603331967846"
      ]
     },
     "execution_count": 109,
     "metadata": {},
     "output_type": "execute_result"
    }
   ],
   "source": [
    "#c\n",
    "1- stats.norm.cdf(105,100,12/8) "
   ]
  },
  {
   "cell_type": "code",
   "execution_count": 110,
   "metadata": {},
   "outputs": [
    {
     "data": {
      "text/plain": [
       "0.095580704545629391"
      ]
     },
     "execution_count": 110,
     "metadata": {},
     "output_type": "execute_result"
    }
   ],
   "source": [
    "stats.norm.cdf(95,100,12/4) +(1- stats.norm.cdf(105,100,12/4))"
   ]
  },
  {
   "cell_type": "markdown",
   "metadata": {},
   "source": [
    "4.(a) If the standard error of the mean is 10 for N = 12, what is the standard error of the mean for N = 22? (b) If the standard error of the mean is 50 for N = 25, what is it for N = 64? (relevant section)"
   ]
  },
  {
   "cell_type": "code",
   "execution_count": 112,
   "metadata": {},
   "outputs": [
    {
     "data": {
      "text/plain": [
       "7.385489458759963"
      ]
     },
     "execution_count": 112,
     "metadata": {},
     "output_type": "execute_result"
    }
   ],
   "source": [
    "#a\n",
    "(10*(12**.5))/22**.5"
   ]
  },
  {
   "cell_type": "code",
   "execution_count": 113,
   "metadata": {},
   "outputs": [
    {
     "data": {
      "text/plain": [
       "31.25"
      ]
     },
     "execution_count": 113,
     "metadata": {},
     "output_type": "execute_result"
    }
   ],
   "source": [
    "#b\n",
    "(50*5)/64**.5"
   ]
  },
  {
   "cell_type": "markdown",
   "metadata": {},
   "source": [
    "5 - A questionnaire is developed to assess women's and men's attitudes toward using animals in research. One question asks whether animal research is wrong and is answered on a 7-point scale. Assume that in the population, the mean for women is 5, the mean for men is 4, and the standard deviation for both groups is 1.5. Assume the scores are normally distributed. If 12 women and 12 men are selected randomly, what is the probability that the mean of the women will be more than 1.5 points higher than the mean of the men? (relevant section)"
   ]
  },
  {
   "cell_type": "code",
   "execution_count": 114,
   "metadata": {},
   "outputs": [],
   "source": [
    "std = ((2*(1.5**2))/12)**.5"
   ]
  },
  {
   "cell_type": "code",
   "execution_count": 116,
   "metadata": {},
   "outputs": [
    {
     "data": {
      "text/plain": [
       "0.20710808912126266"
      ]
     },
     "execution_count": 116,
     "metadata": {},
     "output_type": "execute_result"
    }
   ],
   "source": [
    "1-stats.norm.cdf(1.5,1,std)"
   ]
  },
  {
   "cell_type": "markdown",
   "metadata": {},
   "source": [
    "6 - If the correlation between reading achievement and math achievement in the population of fifth graders were 0.60, what would be the probability that in a sample of 28 students, the sample correlation coefficient would be greater than 0.65? (relevant section)"
   ]
  },
  {
   "cell_type": "code",
   "execution_count": 117,
   "metadata": {},
   "outputs": [
    {
     "data": {
      "text/plain": [
       "0.34062513281262508"
      ]
     },
     "execution_count": 117,
     "metadata": {},
     "output_type": "execute_result"
    }
   ],
   "source": [
    "mean = z_trans(.6)\n",
    "val = z_trans(.65)\n",
    "std = 1/(28-3)**.5\n",
    "1-stats.norm.cdf(val,mean,std)"
   ]
  },
  {
   "cell_type": "markdown",
   "metadata": {},
   "source": [
    "8- A normal distribution has a mean of 20 and a standard deviation of 10. Two scores are sampled randomly from the distribution and the second score is subtracted from the first. What is the probability that the difference score will be greater than 5? "
   ]
  },
  {
   "cell_type": "code",
   "execution_count": 119,
   "metadata": {},
   "outputs": [
    {
     "data": {
      "text/plain": [
       "0.36183680491588155"
      ]
     },
     "execution_count": 119,
     "metadata": {},
     "output_type": "execute_result"
    }
   ],
   "source": [
    "1-stats.norm.cdf(5,0,200**.5)"
   ]
  },
  {
   "cell_type": "markdown",
   "metadata": {},
   "source": [
    "11- A variable is normally distributed with a mean of 120 and a standard deviation of 5. Four scores are randomly sampled. What is the probability that the mean of the four scores is above 127? "
   ]
  },
  {
   "cell_type": "code",
   "execution_count": 120,
   "metadata": {},
   "outputs": [
    {
     "data": {
      "text/plain": [
       "0.0025551303304279793"
      ]
     },
     "execution_count": 120,
     "metadata": {},
     "output_type": "execute_result"
    }
   ],
   "source": [
    "1-stats.norm.cdf(127,120,5/4**.5)"
   ]
  },
  {
   "cell_type": "markdown",
   "metadata": {},
   "source": [
    "12- The correlation between self esteem and extraversion is .30. A sample of 84 is taken. (a) What is the probability that the correlation will be less than 0.10? (b) What is the probability that the correlation will be greater than 0.25? "
   ]
  },
  {
   "cell_type": "code",
   "execution_count": 121,
   "metadata": {},
   "outputs": [
    {
     "data": {
      "text/plain": [
       "1.0670004196620324e-64"
      ]
     },
     "execution_count": 121,
     "metadata": {},
     "output_type": "execute_result"
    }
   ],
   "source": [
    "#a\n",
    "stats.norm.cdf(z_trans(.1),z_trans(.3),1/(84-3))"
   ]
  },
  {
   "cell_type": "code",
   "execution_count": 122,
   "metadata": {},
   "outputs": [
    {
     "data": {
      "text/plain": [
       "0.99999413778538015"
      ]
     },
     "execution_count": 122,
     "metadata": {},
     "output_type": "execute_result"
    }
   ],
   "source": [
    "#a\n",
    "1-stats.norm.cdf(z_trans(.25),z_trans(.3),1/(84-3))"
   ]
  },
  {
   "cell_type": "markdown",
   "metadata": {},
   "source": [
    "13- The mean GPA for students in School A is 3.0; the mean GPA for students in School B is 2.8. The standard deviation in both schools is 0.25. The GPAs of both schools are normally distributed. If 9 students are randomly sampled from each school, what is the probability that:\n",
    "\n",
    "(a) the sample mean for School A will exceed that of School B by 0.5 or more? (relevant section)\n",
    "(b) the sample mean for School B will be greater than the sample mean for School A? (relevant section)"
   ]
  },
  {
   "cell_type": "code",
   "execution_count": 123,
   "metadata": {},
   "outputs": [
    {
     "data": {
      "text/plain": [
       "0.0054547491821346217"
      ]
     },
     "execution_count": 123,
     "metadata": {},
     "output_type": "execute_result"
    }
   ],
   "source": [
    "#a\n",
    "std = ((2*(.25)**2)/9)**.5\n",
    "1-stats.norm.cdf(.5,.2,std)"
   ]
  },
  {
   "cell_type": "code",
   "execution_count": 126,
   "metadata": {},
   "outputs": [
    {
     "data": {
      "text/plain": [
       "0.04484300286485244"
      ]
     },
     "execution_count": 126,
     "metadata": {},
     "output_type": "execute_result"
    }
   ],
   "source": [
    "#b\n",
    "stats.norm.cdf(-.00000001,.2,std)"
   ]
  },
  {
   "cell_type": "markdown",
   "metadata": {},
   "source": [
    "14 - In a city, 70% of the people prefer Candidate A. Suppose 30 people from this city were sampled. (a) What is the mean of the sampling distribution of p? (b) What is the standard error of p? (c) What is the probability that 80% or more of this sample will prefer Candidate A? (d) What is the probability that 45% or more of this sample will prefer some other candidate?"
   ]
  },
  {
   "cell_type": "code",
   "execution_count": 127,
   "metadata": {},
   "outputs": [
    {
     "data": {
      "text/plain": [
       "0.7"
      ]
     },
     "execution_count": 127,
     "metadata": {},
     "output_type": "execute_result"
    }
   ],
   "source": [
    "#a\n",
    ".7"
   ]
  },
  {
   "cell_type": "code",
   "execution_count": 128,
   "metadata": {},
   "outputs": [
    {
     "data": {
      "text/plain": [
       "0.08366600265340757"
      ]
     },
     "execution_count": 128,
     "metadata": {},
     "output_type": "execute_result"
    }
   ],
   "source": [
    "#b\n",
    "st_err = ((.7*(1-.7))/30)**.5\n",
    "\n",
    "st_err "
   ]
  },
  {
   "cell_type": "code",
   "execution_count": 136,
   "metadata": {},
   "outputs": [
    {
     "data": {
      "text/plain": [
       "0.11599886181436692"
      ]
     },
     "execution_count": 136,
     "metadata": {},
     "output_type": "execute_result"
    }
   ],
   "source": [
    "#c\n",
    "1-stats.norm.cdf(.8,.7,st_err) "
   ]
  },
  {
   "cell_type": "code",
   "execution_count": 135,
   "metadata": {},
   "outputs": [
    {
     "data": {
      "text/plain": [
       "0.036499022715057845"
      ]
     },
     "execution_count": 135,
     "metadata": {},
     "output_type": "execute_result"
    }
   ],
   "source": [
    "#d\n",
    "stats.norm.cdf(.55,.7,st_err)"
   ]
  },
  {
   "cell_type": "markdown",
   "metadata": {},
   "source": [
    "### Note:  case studies in other Jupyter notebooks"
   ]
  }
 ],
 "metadata": {
  "kernelspec": {
   "display_name": "Python 3",
   "language": "python",
   "name": "python3"
  },
  "language_info": {
   "codemirror_mode": {
    "name": "ipython",
    "version": 3
   },
   "file_extension": ".py",
   "mimetype": "text/x-python",
   "name": "python",
   "nbconvert_exporter": "python",
   "pygments_lexer": "ipython3",
   "version": "3.6.4"
  }
 },
 "nbformat": 4,
 "nbformat_minor": 2
}
